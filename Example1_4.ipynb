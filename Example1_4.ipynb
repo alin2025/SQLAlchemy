{
  "nbformat": 4,
  "nbformat_minor": 0,
  "metadata": {
    "colab": {
      "provenance": [],
      "authorship_tag": "ABX9TyPU7dVWHRRBnjYlQB1DZ7Zn",
      "include_colab_link": true
    },
    "kernelspec": {
      "name": "python3",
      "display_name": "Python 3"
    },
    "language_info": {
      "name": "python"
    }
  },
  "cells": [
    {
      "cell_type": "markdown",
      "metadata": {
        "id": "view-in-github",
        "colab_type": "text"
      },
      "source": [
        "<a href=\"https://colab.research.google.com/github/alin2025/SQLAlchemy/blob/main/Example1_4.ipynb\" target=\"_parent\"><img src=\"https://colab.research.google.com/assets/colab-badge.svg\" alt=\"Open In Colab\"/></a>"
      ]
    },
    {
      "cell_type": "markdown",
      "source": [
        "\n",
        "Example 01\n",
        "Show the names of the employees and their job title.\n"
      ],
      "metadata": {
        "id": "hQ8rokXBhgaj"
      }
    },
    {
      "cell_type": "code",
      "execution_count": 9,
      "metadata": {
        "colab": {
          "base_uri": "https://localhost:8080/"
        },
        "id": "I-sm-xBlhbyY",
        "outputId": "abfa524d-1642-459d-ad75-9b0f004cf034"
      },
      "outputs": [
        {
          "output_type": "stream",
          "name": "stdout",
          "text": [
            "[(1, 'Adams', 'Andrew', 'General Manager', None, datetime.datetime(1962, 2, 18, 0, 0), datetime.datetime(2002, 8, 14, 0, 0), '11120 Jasper Ave NW', 'Edmonton', 'AB', 'Canada', 'T5K 2N1', '+1 (780) 428-9482', '+1 (780) 428-3457', 'andrew@chinookcorp.com'), (2, 'Edwards', 'Nancy', 'Sales Manager', 1, datetime.datetime(1958, 12, 8, 0, 0), datetime.datetime(2002, 5, 1, 0, 0), '825 8 Ave SW', 'Calgary', 'AB', 'Canada', 'T2P 2T3', '+1 (403) 262-3443', '+1 (403) 262-3322', 'nancy@chinookcorp.com'), (3, 'Peacock', 'Jane', 'Sales Support Agent', 2, datetime.datetime(1973, 8, 29, 0, 0), datetime.datetime(2002, 4, 1, 0, 0), '1111 6 Ave SW', 'Calgary', 'AB', 'Canada', 'T2P 5M5', '+1 (403) 262-3443', '+1 (403) 262-6712', 'jane@chinookcorp.com'), (4, 'Park', 'Margaret', 'Sales Support Agent', 2, datetime.datetime(1947, 9, 19, 0, 0), datetime.datetime(2003, 5, 3, 0, 0), '683 10 Street SW', 'Calgary', 'AB', 'Canada', 'T2P 5G3', '+1 (403) 263-4423', '+1 (403) 263-4289', 'margaret@chinookcorp.com'), (5, 'Johnson', 'Steve', 'Sales Support Agent', 2, datetime.datetime(1965, 3, 3, 0, 0), datetime.datetime(2003, 10, 17, 0, 0), '7727B 41 Ave', 'Calgary', 'AB', 'Canada', 'T3B 1Y7', '1 (780) 836-9987', '1 (780) 836-9543', 'steve@chinookcorp.com')]\n"
          ]
        }
      ],
      "source": [
        "import pandas as pd\n",
        "from sqlalchemy import create_engine, Table, MetaData, Column, Integer, String, Float\n",
        "from sqlalchemy import select, desc\n",
        "from sqlalchemy.sql import func\n",
        "\n",
        "# Create engine\n",
        "engine = create_engine('sqlite:///chinook.db', echo=False)\n",
        "\n",
        "# Create metadata\n",
        "metadata = MetaData()\n",
        "conn = engine.connect()\n",
        "\n",
        "#create employees table\n",
        "employees = Table('employees', metadata, autoload_with=engine)\n",
        "\n",
        "# When we create a select() construct, SQLAlchemy looks around at the tables we’ve mentioned\n",
        "# and then places them in the FROM clause of the statement.\n",
        "# We can select the entire table or specific columns.\n",
        "query = select(employees)\n",
        "result = conn.execute(query)\n",
        "print(result.fetchmany(5))"
      ]
    },
    {
      "cell_type": "code",
      "source": [
        "import pandas as pd\n",
        "from sqlalchemy import create_engine, Table, MetaData, select\n",
        "\n",
        "# Create engine\n",
        "engine = create_engine('sqlite:///chinook.db', echo=False)\n",
        "\n",
        "# Create metadata\n",
        "metadata = MetaData()\n",
        "conn = engine.connect()\n",
        "\n",
        "# Create employees table\n",
        "employees = Table('employees', metadata, autoload_with=engine)\n",
        "\n",
        "# Construct the query to select specific columns\n",
        "query = select(employees.columns.FirstName, employees.columns.LastName, employees.columns.Title)\n",
        "\n",
        "# Execute the query\n",
        "result = conn.execute(query)\n",
        "\n",
        "# Fetch and print the first 5 rows\n",
        "for row in result.fetchmany(5):\n",
        "    print(\"Name:\", row.FirstName, row.LastName, \"- Title:\", row.Title)\n"
      ],
      "metadata": {
        "id": "mrGGUuT7jZd8"
      },
      "execution_count": null,
      "outputs": []
    },
    {
      "cell_type": "markdown",
      "source": [
        "Example 02\n",
        "\n",
        "Show the names of the albums which contain the phrase \"The best of\".\n",
        "\n"
      ],
      "metadata": {
        "id": "W5bH5wM1kpkz"
      }
    },
    {
      "cell_type": "code",
      "source": [
        "import pandas as pd\n",
        "from sqlalchemy import create_engine, Table, MetaData, Column, Integer, String, Float\n",
        "from sqlalchemy import select, desc\n",
        "from sqlalchemy.sql import func\n",
        "\n",
        "# Create engine\n",
        "engine = create_engine('sqlite:///chinook.db', echo=False)\n",
        "\n",
        "# Create metadata\n",
        "metadata = MetaData()\n",
        "conn = engine.connect()\n",
        "\n",
        "#create albums table\n",
        "albums = Table('albums', metadata, autoload_with=engine)\n",
        "\n",
        "# When we create a select() construct, SQLAlchemy looks around at the tables we’ve mentioned\n",
        "# and then places them in the FROM clause of the statement.\n",
        "# We can select the entire table or specific columns.\n",
        "query = select(albums).where(albums.columns.Title.like('%the best of%'))\n",
        "results = conn.execute(query).fetchall()\n",
        "#df_albums = pd.DataFrame(results, columns=albums.c.keys())\n",
        "#df_albums.head()\n",
        "\n",
        "result = conn.execute(query)\n",
        "print(result.fetchmany(5))\n",
        "\n"
      ],
      "metadata": {
        "id": "gb7MRl3sktel"
      },
      "execution_count": null,
      "outputs": []
    },
    {
      "cell_type": "markdown",
      "source": [
        "Example 03\n",
        "\n",
        "Show the names of all the albums and their artists.\n"
      ],
      "metadata": {
        "id": "TaXO1XUxnzOj"
      }
    },
    {
      "cell_type": "code",
      "source": [
        "import pandas as pd\n",
        "from sqlalchemy import create_engine, Table, MetaData, Column, Integer, String, Float\n",
        "from sqlalchemy import select, desc\n",
        "from sqlalchemy.sql import func\n",
        "\n",
        "# Create engine\n",
        "engine = create_engine('sqlite:///chinook.db', echo=False)\n",
        "\n",
        "# Create metadata\n",
        "metadata = MetaData()\n",
        "conn = engine.connect()\n",
        "\n",
        "#create albums,artists table\n",
        "artists = Table('artists', metadata, autoload_with=engine)\n",
        "albums = Table('albums', metadata, autoload_with=engine)\n",
        "\n",
        "# join between tables\n",
        "join_stmt = artists.join(albums, artists.c.ArtistId == albums.c.ArtistId)\n",
        "\n",
        "query = select(albums.c.Title, artists.c.Name).select_from(join_stmt)\n",
        "\n",
        "result = conn.execute(query)\n",
        "print(result.fetchmany(5))"
      ],
      "metadata": {
        "id": "OdpPeP_EoD5D"
      },
      "execution_count": null,
      "outputs": []
    },
    {
      "cell_type": "markdown",
      "source": [
        "Example 04\n",
        "\n",
        "Show for each customer (name) the number of invoinces they had."
      ],
      "metadata": {
        "id": "X_UIVLXaubAq"
      }
    },
    {
      "cell_type": "code",
      "source": [
        "import pandas as pd\n",
        "from sqlalchemy import create_engine, Table, MetaData, Column, Integer, String, Float\n",
        "from sqlalchemy import select, desc\n",
        "from sqlalchemy.sql import func\n",
        "\n",
        "# Create engine\n",
        "engine = create_engine('sqlite:///chinook.db', echo=False)\n",
        "\n",
        "# Create metadata\n",
        "metadata = MetaData()\n",
        "conn = engine.connect()\n",
        "\n",
        "#create invoices,customers table\n",
        "invoices = Table('invoices', metadata, autoload_with=engine)\n",
        "customers = Table('customers', metadata, autoload_with=engine)\n",
        "\n",
        "query = select(customers.c.FirstName + \" \" + customers.c.LastName, func.count(invoices.c.InvoiceId))\\\n",
        "            .select_from(invoices.join(customers, invoices.c.CustomerId == customers.c.CustomerId))\\\n",
        "            .group_by(invoices.c.CustomerId)\n",
        "result = conn.execute(query)\n",
        "print(result.fetchmany(5))"
      ],
      "metadata": {
        "id": "3IUhf1NaugBO"
      },
      "execution_count": null,
      "outputs": []
    },
    {
      "cell_type": "markdown",
      "source": [
        "Example 05\n",
        "\n",
        "get albums table to pandas."
      ],
      "metadata": {
        "id": "ZbY19RVzve9U"
      }
    },
    {
      "cell_type": "code",
      "source": [
        "import pandas as pd\n",
        "from sqlalchemy import create_engine, Table, MetaData, Column, Integer, String, Float\n",
        "from sqlalchemy import select, desc\n",
        "from sqlalchemy.sql import func\n",
        "\n",
        "# Create engine\n",
        "engine = create_engine('sqlite:///chinook.db', echo=False)\n",
        "\n",
        "# Create metadata\n",
        "metadata = MetaData()\n",
        "conn = engine.connect()\n",
        "\n",
        "#create albums,customers table\n",
        "albums = Table('albums', metadata, autoload_with=engine)\n",
        "\n",
        "query = select(albums)\n",
        "result = conn.execute(query)\n",
        "\n",
        "df_albums = pd.DataFrame(result.fetchall(), columns=result.keys())\n",
        "print(df_albums.head())\n",
        "\n"
      ],
      "metadata": {
        "id": "IQ4i1FqJvfJt"
      },
      "execution_count": null,
      "outputs": []
    },
    {
      "cell_type": "markdown",
      "source": [
        "Example 06\n",
        "\n",
        "Create tables and database"
      ],
      "metadata": {
        "id": "PZPFXanPv_m_"
      }
    },
    {
      "cell_type": "code",
      "source": [
        "import pandas as pd\n",
        "from sqlalchemy import create_engine, Table, MetaData, Column, Integer, String, Float\n",
        "from sqlalchemy import select, desc\n",
        "from sqlalchemy.sql import func\n",
        "\n",
        "# Create engine\n",
        "engine = create_engine('sqlite:///:memory:', echo=False)\n",
        "# Create metadata\n",
        "metadata = MetaData()\n",
        "\n",
        "users = Table('users', metadata,\n",
        "    Column('id', Integer),\n",
        "    Column('name', String),\n",
        "    Column('fullname', String),\n",
        ")\n",
        "\n",
        "addresses = Table('addresses', metadata,\n",
        "    Column('id', Integer),\n",
        "    Column('user_id', Integer),\n",
        "    Column('email_address', String)\n",
        ")\n",
        "\n",
        "metadata.create_all(engine)\n",
        "\n",
        "# All operations are sent to the database through the connection object.\n",
        "conn = engine.connect()\n",
        "\n",
        "query = users.insert().values(id=1234, name='jack', fullname='Jack Jones')\n",
        "result = conn.execute(query)\n",
        "\n",
        "query = select(users)\n",
        "result = conn.execute(query)\n",
        "print(result.fetchmany(5))\n"
      ],
      "metadata": {
        "id": "CU0i_of9v_vz"
      },
      "execution_count": null,
      "outputs": []
    }
  ]
}