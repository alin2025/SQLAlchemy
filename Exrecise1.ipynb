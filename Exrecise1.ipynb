{
  "nbformat": 4,
  "nbformat_minor": 0,
  "metadata": {
    "colab": {
      "provenance": [],
      "authorship_tag": "ABX9TyNCM8gdhNjkoJhFF4zD71Io",
      "include_colab_link": true
    },
    "kernelspec": {
      "name": "python3",
      "display_name": "Python 3"
    },
    "language_info": {
      "name": "python"
    }
  },
  "cells": [
    {
      "cell_type": "markdown",
      "metadata": {
        "id": "view-in-github",
        "colab_type": "text"
      },
      "source": [
        "<a href=\"https://colab.research.google.com/github/alin2025/SQLAlchemy/blob/main/Exrecise1.ipynb\" target=\"_parent\"><img src=\"https://colab.research.google.com/assets/colab-badge.svg\" alt=\"Open In Colab\"/></a>"
      ]
    },
    {
      "cell_type": "markdown",
      "source": [
        "'''\n",
        "Part 1\n",
        "- create the tables tracks, albums and artists both as SQLAlchemy Tables\n",
        "and print 10 records from any table.\n"
      ],
      "metadata": {
        "id": "ABW2sqvEIp5y"
      }
    },
    {
      "cell_type": "code",
      "execution_count": null,
      "metadata": {
        "id": "SC8pOKFAIpR6"
      },
      "outputs": [],
      "source": [
        "import pandas as pd\n",
        "from sqlalchemy import create_engine, Table, MetaData, Column, Integer, String, Float\n",
        "from sqlalchemy import select, desc\n",
        "from sqlalchemy.sql import func"
      ]
    },
    {
      "cell_type": "code",
      "source": [
        "# Create engine\n",
        "engine = create_engine('sqlite:///chinook.db', echo=False)\n",
        "\n",
        "# Create metadata\n",
        "metadata = MetaData()\n",
        "conn = engine.connect()"
      ],
      "metadata": {
        "id": "iWWPZofVQSgT"
      },
      "execution_count": null,
      "outputs": []
    },
    {
      "cell_type": "code",
      "source": [
        "# Tracks\n",
        "tracks = Table('tracks', metadata, autoload_with=engine)\n",
        "query = select(tracks)\n",
        "results = conn.execute(query).fetchall()\n",
        "df_tracks = pd.DataFrame(results, columns=tracks.c.keys())\n",
        "print(df_tracks.head())"
      ],
      "metadata": {
        "id": "-a5mbxonQnxF"
      },
      "execution_count": null,
      "outputs": []
    },
    {
      "cell_type": "code",
      "source": [
        "# Albums\n",
        "albums = Table('albums', metadata, autoload_with=engine)\n",
        "query = select(albums)\n",
        "results = conn.execute(query).fetchall()\n",
        "df_albums = pd.DataFrame(results, columns=albums.c.keys())\n",
        "print(df_albums.head())"
      ],
      "metadata": {
        "id": "l_zFPUTnQSnC"
      },
      "execution_count": null,
      "outputs": []
    },
    {
      "cell_type": "code",
      "source": [
        "# Artists\n",
        "artists = Table('artists', metadata, autoload_with=engine)\n",
        "query = select(artists)\n",
        "results = conn.execute(query).fetchall()\n",
        "df_artists = pd.DataFrame(results, columns=artists.c.keys())\n",
        "print(df_artists.head())"
      ],
      "metadata": {
        "id": "QpIqjXjNQvTY"
      },
      "execution_count": null,
      "outputs": []
    },
    {
      "cell_type": "markdown",
      "source": [
        "Part 2\n",
        "- from tracks table filter only the 3th 'AlbumId'\n",
        "and print 10 records from any table.\n",
        "'''"
      ],
      "metadata": {
        "id": "cdpS6VMXSHI1"
      }
    },
    {
      "cell_type": "code",
      "source": [
        "tracks = Table('tracks', metadata, autoload_with=engine)\n",
        "query = select(tracks).where(tracks.columns.AlbumId == 3)  # Filter by the third AlbumId\n",
        "results = conn.execute(query).fetchall()\n",
        "df_filtered_tracks = pd.DataFrame(results, columns=tracks.c.keys())\n",
        "print(df_filtered_tracks.head(2))"
      ],
      "metadata": {
        "id": "NbyZrwoER5kF"
      },
      "execution_count": null,
      "outputs": []
    }
  ]
}