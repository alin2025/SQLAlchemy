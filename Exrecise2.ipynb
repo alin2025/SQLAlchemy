{
  "nbformat": 4,
  "nbformat_minor": 0,
  "metadata": {
    "colab": {
      "provenance": [],
      "authorship_tag": "ABX9TyNFtA0ynkxdyxb6HszJy8qK",
      "include_colab_link": true
    },
    "kernelspec": {
      "name": "python3",
      "display_name": "Python 3"
    },
    "language_info": {
      "name": "python"
    }
  },
  "cells": [
    {
      "cell_type": "markdown",
      "metadata": {
        "id": "view-in-github",
        "colab_type": "text"
      },
      "source": [
        "<a href=\"https://colab.research.google.com/github/alin2025/SQLAlchemy/blob/main/Exrecise2.ipynb\" target=\"_parent\"><img src=\"https://colab.research.google.com/assets/colab-badge.svg\" alt=\"Open In Colab\"/></a>"
      ]
    },
    {
      "cell_type": "markdown",
      "source": [
        "\n",
        "Part 1\n",
        "\n",
        "create the tables tracks, albums and artists:\n",
        "\n",
        "both as SQLAlchemy Tables and as pandas DataFrames."
      ],
      "metadata": {
        "id": "ZAKEW9rJTNTV"
      }
    },
    {
      "cell_type": "code",
      "source": [
        "import pandas as pd\n",
        "from sqlalchemy import create_engine, Table, MetaData, Column, Integer, String, Float\n",
        "from sqlalchemy import select, desc\n",
        "from sqlalchemy.sql import func"
      ],
      "metadata": {
        "id": "6AHk15-hToYP"
      },
      "execution_count": 1,
      "outputs": []
    },
    {
      "cell_type": "code",
      "source": [
        "# Create engine\n",
        "engine = create_engine('sqlite:///chinook.db', echo=False)\n",
        "\n",
        "# Create metadata\n",
        "metadata = MetaData()\n",
        "conn = engine.connect()"
      ],
      "metadata": {
        "id": "T1TEdEQZTofy"
      },
      "execution_count": 2,
      "outputs": []
    },
    {
      "cell_type": "code",
      "source": [
        "# Tracks\n",
        "tracks = Table('tracks', metadata, autoload_with=engine)\n",
        "query = select(tracks)\n",
        "results = conn.execute(query).fetchall()\n",
        "\n",
        "df_tracks = pd.DataFrame(results, columns=tracks.c.keys())\n",
        "print(df_tracks.head())"
      ],
      "metadata": {
        "id": "SVbSt1wBTojd"
      },
      "execution_count": null,
      "outputs": []
    },
    {
      "cell_type": "code",
      "source": [
        "# Albums\n",
        "albums = Table('albums', metadata, autoload_with=engine)\n",
        "query = select(albums)\n",
        "results = conn.execute(query).fetchall()\n",
        "\n",
        "df_albums = pd.DataFrame(results, columns=albums.c.keys())\n",
        "print(df_albums.head())"
      ],
      "metadata": {
        "id": "ijfa--yPdbfT"
      },
      "execution_count": null,
      "outputs": []
    },
    {
      "cell_type": "code",
      "source": [
        "# Artists\n",
        "artists = Table('artists', metadata, autoload_with=engine)\n",
        "query = select(artists)\n",
        "results = conn.execute(query).fetchall()\n",
        "\n",
        "df_artists = pd.DataFrame(results, columns=artists.c.keys())\n",
        "print(df_artists.head())"
      ],
      "metadata": {
        "id": "TLKzFOxkT5EH"
      },
      "execution_count": null,
      "outputs": []
    },
    {
      "cell_type": "markdown",
      "source": [
        "Part 2\n",
        "\n",
        "Answer the following questions in two ways - using SQLAlchemy and using pandas.\n",
        "\n",
        "What is the size of the table tracks?\n"
      ],
      "metadata": {
        "id": "XVB82TEFTR6T"
      }
    },
    {
      "cell_type": "code",
      "source": [
        "# SQL Alchemy\n",
        "query = select(func.count()).select_from(tracks)\n",
        "print(conn.execute(query).fetchall())\n",
        "\n",
        "# Pandas\n",
        "print(len(df_tracks))"
      ],
      "metadata": {
        "id": "8DT9Ck27d4yw"
      },
      "execution_count": null,
      "outputs": []
    },
    {
      "cell_type": "markdown",
      "source": [
        "Which artist has the highest number of tracks?\n"
      ],
      "metadata": {
        "id": "pEhFgUYTd3NO"
      }
    },
    {
      "cell_type": "code",
      "execution_count": null,
      "metadata": {
        "id": "8M7crOetTKJT"
      },
      "outputs": [],
      "source": [
        " #SQL Alchemy\n",
        "\n",
        "join_stmt = tracks.join(albums, tracks.c.AlbumId == albums.c.AlbumId)\\\n",
        "    .join(artists, albums.c.ArtistId == artists.c.ArtistId)\n",
        "\n",
        "query = select(artists.c.Name, func.count(tracks.c.TrackId).label('tracks_count'))\\\n",
        "    .select_from(join_stmt)\\\n",
        "    .group_by(artists.c.ArtistId)\\\n",
        "    .order_by(desc('tracks_count'))\n",
        "\n",
        "print(conn.execute(query).fetchmany(5))"
      ]
    },
    {
      "cell_type": "code",
      "source": [
        "# Pandas\n",
        "\n",
        "df_all = df_tracks\\\n",
        "    .join(df_albums.set_index('AlbumId'), on='AlbumId')\\\n",
        "    .join(df_artists.set_index('ArtistId'), on='ArtistId',\n",
        "          lsuffix='_l', rsuffix='_r')\n",
        "\n",
        "\n",
        "print(df_all.Name_r.value_counts()[:5])"
      ],
      "metadata": {
        "id": "xBIqUCGwed9W"
      },
      "execution_count": null,
      "outputs": []
    }
  ]
}