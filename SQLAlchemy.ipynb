{
  "nbformat": 4,
  "nbformat_minor": 0,
  "metadata": {
    "colab": {
      "provenance": [],
      "collapsed_sections": [
        "qMSjyzkyPEZF"
      ],
      "include_colab_link": true
    },
    "kernelspec": {
      "display_name": "Python 3",
      "language": "python",
      "name": "python3"
    },
    "language_info": {
      "codemirror_mode": {
        "name": "ipython",
        "version": 3
      },
      "file_extension": ".py",
      "mimetype": "text/x-python",
      "name": "python",
      "nbconvert_exporter": "python",
      "pygments_lexer": "ipython3",
      "version": "3.6.5"
    }
  },
  "cells": [
    {
      "cell_type": "markdown",
      "metadata": {
        "id": "view-in-github",
        "colab_type": "text"
      },
      "source": [
        "<a href=\"https://colab.research.google.com/github/alin2025/SQLAlchemy/blob/main/SQLAlchemy.ipynb\" target=\"_parent\"><img src=\"https://colab.research.google.com/assets/colab-badge.svg\" alt=\"Open In Colab\"/></a>"
      ]
    },
    {
      "cell_type": "code",
      "source": [
        "!pip index versions sqlalchemy\n"
      ],
      "metadata": {
        "colab": {
          "base_uri": "https://localhost:8080/"
        },
        "id": "415BTLA-v8_U",
        "outputId": "f972e44a-9581-4f41-adb0-fc331f3f0834"
      },
      "execution_count": null,
      "outputs": [
        {
          "output_type": "stream",
          "name": "stdout",
          "text": [
            "\u001b[33mWARNING: pip index is currently an experimental command. It may be removed/changed in a future release without prior warning.\u001b[0m\u001b[33m\n",
            "\u001b[0msqlalchemy (2.0.27)\n",
            "Available versions: 2.0.27, 2.0.26, 2.0.25, 2.0.24, 2.0.23, 2.0.22, 2.0.21, 2.0.20, 2.0.19, 2.0.18, 2.0.17, 2.0.16, 2.0.15, 2.0.14, 2.0.13, 2.0.12, 2.0.11, 2.0.10, 2.0.9, 2.0.8, 2.0.7, 2.0.6, 2.0.5.post1, 2.0.4, 2.0.3, 2.0.2, 2.0.1, 2.0.0, 1.4.51, 1.4.50, 1.4.49, 1.4.48, 1.4.47, 1.4.46, 1.4.45, 1.4.44, 1.4.43, 1.4.42, 1.4.41, 1.4.40, 1.4.39, 1.4.38, 1.4.37, 1.4.36, 1.4.35, 1.4.32, 1.4.31, 1.4.30, 1.4.29, 1.4.28, 1.4.27, 1.4.26, 1.4.25, 1.4.24, 1.4.23, 1.4.22, 1.4.21, 1.4.20, 1.4.19, 1.4.18, 1.4.17, 1.4.16, 1.4.15, 1.4.14, 1.4.13, 1.4.12, 1.4.11, 1.4.10, 1.4.9, 1.4.8, 1.4.7, 1.4.6, 1.4.5, 1.4.4, 1.4.3, 1.4.2, 1.4.1, 1.4.0, 1.3.24, 1.3.23, 1.3.22, 1.3.21, 1.3.20, 1.3.19, 1.3.18, 1.3.17, 1.3.16, 1.3.15, 1.3.14, 1.3.13, 1.3.12, 1.3.11, 1.3.10, 1.3.9, 1.3.8, 1.3.7, 1.3.6, 1.3.5, 1.3.4, 1.3.3, 1.3.2, 1.3.1, 1.3.0, 1.2.19, 1.2.18, 1.2.17, 1.2.16, 1.2.15, 1.2.14, 1.2.13, 1.2.12, 1.2.11, 1.2.10, 1.2.9, 1.2.8, 1.2.7, 1.2.6, 1.2.5, 1.2.4, 1.2.3, 1.2.2, 1.2.1, 1.2.0, 1.1.18, 1.1.17, 1.1.16, 1.1.15, 1.1.14, 1.1.13, 1.1.12, 1.1.11, 1.1.10, 1.1.9, 1.1.8, 1.1.7, 1.1.6, 1.1.5, 1.1.4, 1.1.3, 1.1.2, 1.1.1, 1.1.0, 1.0.19, 1.0.18, 1.0.17, 1.0.16, 1.0.15, 1.0.14, 1.0.13, 1.0.12, 1.0.11, 1.0.10, 1.0.9, 1.0.8, 1.0.7, 1.0.6, 1.0.5, 1.0.4, 1.0.3, 1.0.2, 1.0.1, 1.0.0, 0.9.10, 0.9.9, 0.9.8, 0.9.7, 0.9.6, 0.9.5, 0.9.4, 0.9.3, 0.9.2, 0.9.1, 0.9.0, 0.8.7, 0.8.6, 0.8.5, 0.8.4, 0.8.3, 0.8.2, 0.8.1, 0.8.0, 0.7.10, 0.7.9, 0.7.8, 0.7.7, 0.7.6, 0.7.5, 0.7.4, 0.7.3, 0.7.2, 0.7.1, 0.7.0, 0.6.9, 0.6.8, 0.6.7, 0.6.6, 0.6.5, 0.6.4, 0.6.3, 0.6.2, 0.6.1, 0.6.0, 0.5.8, 0.5.7, 0.5.6, 0.5.5, 0.5.4, 0.5.3, 0.5.2, 0.5.1, 0.5.0, 0.4.8, 0.4.7, 0.4.6, 0.4.5, 0.4.4, 0.4.3, 0.4.2, 0.4.1, 0.4.0, 0.3.11, 0.3.10, 0.3.9, 0.3.8, 0.3.7, 0.3.6, 0.3.5, 0.3.4, 0.3.3, 0.3.2, 0.3.1, 0.3.0, 0.2.8, 0.2.7, 0.2.6, 0.2.5, 0.2.4, 0.2.3, 0.2.2, 0.2.1, 0.2.0, 0.1.7, 0.1.6, 0.1.5, 0.1.4, 0.1.3, 0.1.2, 0.1.1, 0.1.0\n",
            "  INSTALLED: 2.0.27\n",
            "  LATEST:    2.0.27\n"
          ]
        }
      ]
    },
    {
      "cell_type": "code",
      "metadata": {
        "id": "zblNDDBlGQzV"
      },
      "source": [
        "import pandas as pd\n",
        "from sqlalchemy import create_engine, Table, MetaData, Column, Integer, String, Float,inspect\n",
        "from sqlalchemy import select, desc\n",
        "from sqlalchemy.sql import func,text\n",
        "import sqlalchemy"
      ],
      "execution_count": 1,
      "outputs": []
    },
    {
      "cell_type": "markdown",
      "metadata": {
        "id": "-GK7eCNV_cJK"
      },
      "source": [
        "> **Reference:** [Excellent SQLAlchemy tutorial with examples by Vinay Kudari](https://towardsdatascience.com/sqlalchemy-python-tutorial-79a577141a91)"
      ]
    },
    {
      "cell_type": "markdown",
      "metadata": {
        "id": "gORWqKlwGQzf"
      },
      "source": [
        "# SQLAlchemy basic concepts"
      ]
    },
    {
      "cell_type": "markdown",
      "metadata": {
        "id": "gI3s4DZ-GQzj"
      },
      "source": [
        "[**SQLAlchemy**](http://docs.sqlalchemy.org/en/latest/core/engines.html) provides a nice “Pythonic” way of interacting with databases. So rather than dealing with the differences between specific dialects of traditional SQL such as MySQL or PostgreSQL or Oracle, you can leverage the Pythonic framework of SQLAlchemy to streamline your workflow and more efficiently query your data."
      ]
    },
    {
      "cell_type": "markdown",
      "metadata": {
        "id": "j_bzChTj3dKy"
      },
      "source": [
        "In this example we will interact with an [**SQLite**](http://www.sqlitetutorial.net/) database, which is a C library that provides a lightweight disk-based database. We will work in front of an existing DB called [`chinook`](http://www.sqlitetutorial.net/sqlite-sample-database)."
      ]
    },
    {
      "cell_type": "code",
      "metadata": {
        "id": "XgAD5ipjGWae",
        "colab": {
          "base_uri": "https://localhost:8080/",
          "height": 74
        },
        "outputId": "80e70058-087a-476d-ed4b-2907ab1241da"
      },
      "source": [
        "import sys\n",
        "if 'google.colab' in sys.modules:\n",
        "    from google.colab import files\n",
        "    uploaded = files.upload()"
      ],
      "execution_count": null,
      "outputs": [
        {
          "output_type": "display_data",
          "data": {
            "text/plain": [
              "<IPython.core.display.HTML object>"
            ],
            "text/html": [
              "\n",
              "     <input type=\"file\" id=\"files-96975b26-2e5c-4e8a-af79-8bf2e17ecce5\" name=\"files[]\" multiple disabled\n",
              "        style=\"border:none\" />\n",
              "     <output id=\"result-96975b26-2e5c-4e8a-af79-8bf2e17ecce5\">\n",
              "      Upload widget is only available when the cell has been executed in the\n",
              "      current browser session. Please rerun this cell to enable.\n",
              "      </output>\n",
              "      <script>// Copyright 2017 Google LLC\n",
              "//\n",
              "// Licensed under the Apache License, Version 2.0 (the \"License\");\n",
              "// you may not use this file except in compliance with the License.\n",
              "// You may obtain a copy of the License at\n",
              "//\n",
              "//      http://www.apache.org/licenses/LICENSE-2.0\n",
              "//\n",
              "// Unless required by applicable law or agreed to in writing, software\n",
              "// distributed under the License is distributed on an \"AS IS\" BASIS,\n",
              "// WITHOUT WARRANTIES OR CONDITIONS OF ANY KIND, either express or implied.\n",
              "// See the License for the specific language governing permissions and\n",
              "// limitations under the License.\n",
              "\n",
              "/**\n",
              " * @fileoverview Helpers for google.colab Python module.\n",
              " */\n",
              "(function(scope) {\n",
              "function span(text, styleAttributes = {}) {\n",
              "  const element = document.createElement('span');\n",
              "  element.textContent = text;\n",
              "  for (const key of Object.keys(styleAttributes)) {\n",
              "    element.style[key] = styleAttributes[key];\n",
              "  }\n",
              "  return element;\n",
              "}\n",
              "\n",
              "// Max number of bytes which will be uploaded at a time.\n",
              "const MAX_PAYLOAD_SIZE = 100 * 1024;\n",
              "\n",
              "function _uploadFiles(inputId, outputId) {\n",
              "  const steps = uploadFilesStep(inputId, outputId);\n",
              "  const outputElement = document.getElementById(outputId);\n",
              "  // Cache steps on the outputElement to make it available for the next call\n",
              "  // to uploadFilesContinue from Python.\n",
              "  outputElement.steps = steps;\n",
              "\n",
              "  return _uploadFilesContinue(outputId);\n",
              "}\n",
              "\n",
              "// This is roughly an async generator (not supported in the browser yet),\n",
              "// where there are multiple asynchronous steps and the Python side is going\n",
              "// to poll for completion of each step.\n",
              "// This uses a Promise to block the python side on completion of each step,\n",
              "// then passes the result of the previous step as the input to the next step.\n",
              "function _uploadFilesContinue(outputId) {\n",
              "  const outputElement = document.getElementById(outputId);\n",
              "  const steps = outputElement.steps;\n",
              "\n",
              "  const next = steps.next(outputElement.lastPromiseValue);\n",
              "  return Promise.resolve(next.value.promise).then((value) => {\n",
              "    // Cache the last promise value to make it available to the next\n",
              "    // step of the generator.\n",
              "    outputElement.lastPromiseValue = value;\n",
              "    return next.value.response;\n",
              "  });\n",
              "}\n",
              "\n",
              "/**\n",
              " * Generator function which is called between each async step of the upload\n",
              " * process.\n",
              " * @param {string} inputId Element ID of the input file picker element.\n",
              " * @param {string} outputId Element ID of the output display.\n",
              " * @return {!Iterable<!Object>} Iterable of next steps.\n",
              " */\n",
              "function* uploadFilesStep(inputId, outputId) {\n",
              "  const inputElement = document.getElementById(inputId);\n",
              "  inputElement.disabled = false;\n",
              "\n",
              "  const outputElement = document.getElementById(outputId);\n",
              "  outputElement.innerHTML = '';\n",
              "\n",
              "  const pickedPromise = new Promise((resolve) => {\n",
              "    inputElement.addEventListener('change', (e) => {\n",
              "      resolve(e.target.files);\n",
              "    });\n",
              "  });\n",
              "\n",
              "  const cancel = document.createElement('button');\n",
              "  inputElement.parentElement.appendChild(cancel);\n",
              "  cancel.textContent = 'Cancel upload';\n",
              "  const cancelPromise = new Promise((resolve) => {\n",
              "    cancel.onclick = () => {\n",
              "      resolve(null);\n",
              "    };\n",
              "  });\n",
              "\n",
              "  // Wait for the user to pick the files.\n",
              "  const files = yield {\n",
              "    promise: Promise.race([pickedPromise, cancelPromise]),\n",
              "    response: {\n",
              "      action: 'starting',\n",
              "    }\n",
              "  };\n",
              "\n",
              "  cancel.remove();\n",
              "\n",
              "  // Disable the input element since further picks are not allowed.\n",
              "  inputElement.disabled = true;\n",
              "\n",
              "  if (!files) {\n",
              "    return {\n",
              "      response: {\n",
              "        action: 'complete',\n",
              "      }\n",
              "    };\n",
              "  }\n",
              "\n",
              "  for (const file of files) {\n",
              "    const li = document.createElement('li');\n",
              "    li.append(span(file.name, {fontWeight: 'bold'}));\n",
              "    li.append(span(\n",
              "        `(${file.type || 'n/a'}) - ${file.size} bytes, ` +\n",
              "        `last modified: ${\n",
              "            file.lastModifiedDate ? file.lastModifiedDate.toLocaleDateString() :\n",
              "                                    'n/a'} - `));\n",
              "    const percent = span('0% done');\n",
              "    li.appendChild(percent);\n",
              "\n",
              "    outputElement.appendChild(li);\n",
              "\n",
              "    const fileDataPromise = new Promise((resolve) => {\n",
              "      const reader = new FileReader();\n",
              "      reader.onload = (e) => {\n",
              "        resolve(e.target.result);\n",
              "      };\n",
              "      reader.readAsArrayBuffer(file);\n",
              "    });\n",
              "    // Wait for the data to be ready.\n",
              "    let fileData = yield {\n",
              "      promise: fileDataPromise,\n",
              "      response: {\n",
              "        action: 'continue',\n",
              "      }\n",
              "    };\n",
              "\n",
              "    // Use a chunked sending to avoid message size limits. See b/62115660.\n",
              "    let position = 0;\n",
              "    do {\n",
              "      const length = Math.min(fileData.byteLength - position, MAX_PAYLOAD_SIZE);\n",
              "      const chunk = new Uint8Array(fileData, position, length);\n",
              "      position += length;\n",
              "\n",
              "      const base64 = btoa(String.fromCharCode.apply(null, chunk));\n",
              "      yield {\n",
              "        response: {\n",
              "          action: 'append',\n",
              "          file: file.name,\n",
              "          data: base64,\n",
              "        },\n",
              "      };\n",
              "\n",
              "      let percentDone = fileData.byteLength === 0 ?\n",
              "          100 :\n",
              "          Math.round((position / fileData.byteLength) * 100);\n",
              "      percent.textContent = `${percentDone}% done`;\n",
              "\n",
              "    } while (position < fileData.byteLength);\n",
              "  }\n",
              "\n",
              "  // All done.\n",
              "  yield {\n",
              "    response: {\n",
              "      action: 'complete',\n",
              "    }\n",
              "  };\n",
              "}\n",
              "\n",
              "scope.google = scope.google || {};\n",
              "scope.google.colab = scope.google.colab || {};\n",
              "scope.google.colab._files = {\n",
              "  _uploadFiles,\n",
              "  _uploadFilesContinue,\n",
              "};\n",
              "})(self);\n",
              "</script> "
            ]
          },
          "metadata": {}
        },
        {
          "output_type": "stream",
          "name": "stdout",
          "text": [
            "Saving chinook.db to chinook.db\n"
          ]
        }
      ]
    },
    {
      "cell_type": "markdown",
      "metadata": {
        "id": "yJSiHUhIGQzl"
      },
      "source": [
        "## Engine"
      ]
    },
    {
      "cell_type": "markdown",
      "metadata": {
        "id": "wahXytpDGQzo"
      },
      "source": [
        "[Engine](http://docs.sqlalchemy.org/en/latest/core/connections.html#sqlalchemy.engine.Engine) is the most fundamental object of SQLAlchemy, and it defines the database we work with."
      ]
    },
    {
      "cell_type": "code",
      "metadata": {
        "id": "iGBnMCAYGQzq"
      },
      "source": [
        "engine = sqlalchemy.create_engine('sqlite:///chinook.db', echo=False)"
      ],
      "execution_count": 2,
      "outputs": []
    },
    {
      "cell_type": "code",
      "metadata": {
        "colab": {
          "base_uri": "https://localhost:8080/"
        },
        "id": "WBkmdR4BnBh0",
        "outputId": "c07267b0-cc18-49e3-b081-11a7ccf2e4dd"
      },
      "source": [
        "Inspector=inspect(engine)\n",
        "Inspector.get_table_names()"
      ],
      "execution_count": 3,
      "outputs": [
        {
          "output_type": "execute_result",
          "data": {
            "text/plain": [
              "['albums',\n",
              " 'artists',\n",
              " 'customers',\n",
              " 'employees',\n",
              " 'genres',\n",
              " 'invoice_items',\n",
              " 'invoices',\n",
              " 'media_types',\n",
              " 'playlist_track',\n",
              " 'playlists',\n",
              " 'tracks']"
            ]
          },
          "metadata": {},
          "execution_count": 3
        }
      ]
    },
    {
      "cell_type": "markdown",
      "metadata": {
        "id": "1X8pONBr7iov"
      },
      "source": [
        "## MetaData"
      ]
    },
    {
      "cell_type": "markdown",
      "metadata": {
        "id": "6076p7xu3n9h"
      },
      "source": [
        "Database tables in SQLAlchemy belong (are linked to) a [metadata](https://docs.sqlalchemy.org/en/13/core/connections.html#connectionless-execution-implicit-execution) object."
      ]
    },
    {
      "cell_type": "code",
      "metadata": {
        "id": "uX9u6yTWGQzt"
      },
      "source": [
        "metadata = sqlalchemy.MetaData()"
      ],
      "execution_count": 4,
      "outputs": []
    },
    {
      "cell_type": "code",
      "source": [
        "metadata.tables.keys()"
      ],
      "metadata": {
        "colab": {
          "base_uri": "https://localhost:8080/"
        },
        "id": "IlHqm7UFuTO_",
        "outputId": "72cc4739-743e-432d-f997-3703573a81f5"
      },
      "execution_count": 11,
      "outputs": [
        {
          "output_type": "execute_result",
          "data": {
            "text/plain": [
              "dict_keys(['employees', 'albums', 'artists'])"
            ]
          },
          "metadata": {},
          "execution_count": 11
        }
      ]
    },
    {
      "cell_type": "markdown",
      "metadata": {
        "id": "fPueEXwWxoAg"
      },
      "source": [
        "## [`Table`](https://docs.sqlalchemy.org/en/13/core/metadata.html#sqlalchemy.schema.Table)"
      ]
    },
    {
      "cell_type": "code",
      "metadata": {
        "id": "sPQ8V_x-E9xP"
      },
      "source": [
        "albums = Table('albums', metadata, autoload_with=engine)"
      ],
      "execution_count": 10,
      "outputs": []
    },
    {
      "cell_type": "code",
      "metadata": {
        "colab": {
          "base_uri": "https://localhost:8080/"
        },
        "id": "xjyJJCYAFDZy",
        "outputId": "de0c88d5-d784-4ad6-d412-5b0c553fdd5e"
      },
      "source": [
        "albums.c.keys()"
      ],
      "execution_count": 12,
      "outputs": [
        {
          "output_type": "execute_result",
          "data": {
            "text/plain": [
              "['AlbumId', 'Title', 'ArtistId']"
            ]
          },
          "metadata": {},
          "execution_count": 12
        }
      ]
    },
    {
      "cell_type": "markdown",
      "metadata": {
        "id": "MNitxtdHeN-9"
      },
      "source": [
        "> **Discussion:** What is the difference between Python's Table and SQL's Table? Mention the concept of DB API."
      ]
    },
    {
      "cell_type": "markdown",
      "source": [
        "Python's Table and SQL's Table refer to different concepts in the context of programming languages and database management systems (DBMS).\n",
        "\n",
        "Python's Table: In Python, a Table typically refers to a data structure or object used to store and manipulate tabular data, often in memory.\n",
        "Python doesn't have a built-in Table class, but there are libraries like pandas that provide a DataFrame object, which is essentially a table-like structure for data manipulation and analysis.\n",
        "\n",
        "SQL's Table: In SQL databases, a Table is a fundamental concept representing a collection of related data organized in rows and columns. SQL tables are defined within a relational database management system (RDBMS) and are used to store and manage structured data.\n",
        "\n",
        "while both Python and SQL involve the concept of tables, they operate in different domains:\n",
        "\n",
        "Python's tables are typically used for in-memory data manipulation within Python programs, while\n",
        "\n",
        "SQL's tables are used for storing and managing structured data within a database management system.\n",
        "\n",
        "The DB API provides a standard way for Python programs to interact with SQL databases, enabling tasks such as executing queries, fetching results, and managing database connections."
      ],
      "metadata": {
        "id": "NJIK2HlD7MGQ"
      }
    },
    {
      "cell_type": "markdown",
      "metadata": {
        "id": "j_S0I2lyfH29"
      },
      "source": [
        "## Connection"
      ]
    },
    {
      "cell_type": "markdown",
      "metadata": {
        "id": "hRRNjenlGQz2"
      },
      "source": [
        "The `connect()` method returns a [*Connection*][con] object, through which we can send commands to the database.\n",
        "\n",
        "[con]: http://docs.sqlalchemy.org/en/latest/core/connections.html#sqlalchemy.engine.Connection \"Connection docs\""
      ]
    },
    {
      "cell_type": "code",
      "metadata": {
        "id": "dymsSIRpfJM7"
      },
      "source": [
        "conn = engine.connect()"
      ],
      "execution_count": 13,
      "outputs": []
    },
    {
      "cell_type": "markdown",
      "metadata": {
        "id": "GeGxFoJ3_xeb"
      },
      "source": [
        "# Executing DB operations"
      ]
    },
    {
      "cell_type": "markdown",
      "metadata": {
        "id": "4KGf0HpHArLE"
      },
      "source": [
        "Using SQLAlchemy, the `Connection`'s [`execute(object_)`](https://docs.sqlalchemy.org/en/13/core/connections.html#sqlalchemy.engine.Connection.execute) method executes SQL commands in 2 optional ways, either by sending explicit SQL commands, or by wrapping them with Pythonic objects."
      ]
    },
    {
      "cell_type": "markdown",
      "metadata": {
        "id": "uF1rJxxaD4JI"
      },
      "source": [
        "## SQL statements"
      ]
    },
    {
      "cell_type": "markdown",
      "metadata": {
        "id": "Y9RTi6O6EJ9M"
      },
      "source": [
        "A straight-forward approach would be to use our connection and \"send\" SQL commands."
      ]
    },
    {
      "cell_type": "code",
      "metadata": {
        "id": "RSFQqsNAcw-D"
      },
      "source": [
        "query = text('''\n",
        "SELECT * FROM albums\n",
        "WHERE Title LIKE '%the best of%'\n",
        "''')"
      ],
      "execution_count": 14,
      "outputs": []
    },
    {
      "cell_type": "code",
      "metadata": {
        "id": "l38tMIf5I7RE"
      },
      "source": [
        "result = conn.execute(query)"
      ],
      "execution_count": 15,
      "outputs": []
    },
    {
      "cell_type": "markdown",
      "metadata": {
        "id": "j0w4_MhdE907"
      },
      "source": [
        "The result is a [`ResultProxy`](https://docs.sqlalchemy.org/en/13/core/connections.html#sqlalchemy.engine.ResultProxy). which is an iterator."
      ]
    },
    {
      "cell_type": "code",
      "metadata": {
        "colab": {
          "base_uri": "https://localhost:8080/"
        },
        "id": "KuV-VFf_FHZz",
        "outputId": "dddd0337-214b-4638-bef2-f67c4ffaa012"
      },
      "source": [
        "result.fetchmany(5)"
      ],
      "execution_count": 18,
      "outputs": [
        {
          "output_type": "execute_result",
          "data": {
            "text/plain": [
              "[(243, 'The Best Of Van Halen, Vol. I', 152),\n",
              " (257, '20th Century Masters - The Millennium Collection: The Best of Scorpions', 179),\n",
              " (268, 'The Best of Beethoven', 203)]"
            ]
          },
          "metadata": {},
          "execution_count": 18
        }
      ]
    },
    {
      "cell_type": "markdown",
      "metadata": {
        "id": "h9x5ljSSFvxK"
      },
      "source": [
        "> **Note:** `ResultProxy` is an iterator. What will happen if we run `fetchmany()` again?"
      ]
    },
    {
      "cell_type": "markdown",
      "metadata": {
        "id": "QtduMSXzF8P3"
      },
      "source": [
        "> **Discussion:** To execute queries this way you have to be proficient in SQL. Pros and cons..."
      ]
    },
    {
      "cell_type": "markdown",
      "metadata": {
        "id": "Rp02zAS6haJ_"
      },
      "source": [
        "## [`ClauseElement`](https://docs.sqlalchemy.org/en/latest/core/sqlelement.html#sqlalchemy.sql.expression.ClauseElement)"
      ]
    },
    {
      "cell_type": "markdown",
      "metadata": {
        "id": "JOSViv9gGakn"
      },
      "source": [
        "**The power of an API lies in its objects**, and SQLAlchemy provides \"Pythonic\" objects to represent SQL functionalities. More specifically, we will be interested in  [`FromClause`](https://docs.sqlalchemy.org/en/13/core/selectable.html#sqlalchemy.sql.expression.FromClause) elements."
      ]
    },
    {
      "cell_type": "markdown",
      "metadata": {
        "id": "IW42Dpa1eZZb"
      },
      "source": [
        "> **Reference:** More information about the available expressions (virtually most of SQL functionality) can be found in this [SQL expression language tutorial by SQLAlchemy](https://docs.sqlalchemy.org/en/13/core/tutorial.html#sql-expression-language-tutorial)."
      ]
    },
    {
      "cell_type": "markdown",
      "metadata": {
        "id": "6YqzU3OLcFCI"
      },
      "source": [
        "### Example 1 - select"
      ]
    },
    {
      "cell_type": "markdown",
      "metadata": {
        "id": "cIYyKzxFE5_E"
      },
      "source": [
        "**Task - Show the names of the employees and their job title.**"
      ]
    },
    {
      "cell_type": "markdown",
      "metadata": {
        "id": "he5F5YkmdFDR"
      },
      "source": [
        "We will demonstrate the API with the [`select()`](https://docs.sqlalchemy.org/en/13/core/selectable.html#sqlalchemy.sql.expression.select) method, which returns a [`Select`](https://docs.sqlalchemy.org/en/13/core/selectable.html?highlight=select#sqlalchemy.sql.expression.Select) object."
      ]
    },
    {
      "cell_type": "markdown",
      "metadata": {
        "id": "zgzoj3bq_NlA"
      },
      "source": [
        "Let's demonstrate with the *employees* table."
      ]
    },
    {
      "cell_type": "code",
      "metadata": {
        "id": "RnCzbJF3-4F5"
      },
      "source": [
        "employees = Table('employees', metadata, autoload_with=engine)"
      ],
      "execution_count": 19,
      "outputs": []
    },
    {
      "cell_type": "markdown",
      "metadata": {
        "id": "y5U2GeDL_aSw"
      },
      "source": [
        "When we create a `select()` construct, SQLAlchemy looks around at the tables we’ve mentioned and then places them in the FROM clause of the statement. We can select the entire table or specific columns."
      ]
    },
    {
      "cell_type": "code",
      "metadata": {
        "id": "REx_K1PFJE1Q"
      },
      "source": [
        "query = sqlalchemy.select(employees)\n",
        "# query = select(employees.c.EmployeeId, employees.c.FirstName, employees.c.LastName, employees.c.Title)"
      ],
      "execution_count": 20,
      "outputs": []
    },
    {
      "cell_type": "markdown",
      "metadata": {
        "id": "VD5ziwFKButj"
      },
      "source": [
        "> **Discussion:** Discuss the [`Select`](https://docs.sqlalchemy.org/en/13/core/selectable.html?highlight=select#sqlalchemy.sql.expression.Select) object and its available properties."
      ]
    },
    {
      "cell_type": "code",
      "metadata": {
        "colab": {
          "base_uri": "https://localhost:8080/"
        },
        "id": "94atcBdaVFje",
        "outputId": "67008314-1c8b-42dc-d1ec-94f80cd64a0f"
      },
      "source": [
        "print(str(query))"
      ],
      "execution_count": 21,
      "outputs": [
        {
          "output_type": "stream",
          "name": "stdout",
          "text": [
            "SELECT employees.\"EmployeeId\", employees.\"LastName\", employees.\"FirstName\", employees.\"Title\", employees.\"ReportsTo\", employees.\"BirthDate\", employees.\"HireDate\", employees.\"Address\", employees.\"City\", employees.\"State\", employees.\"Country\", employees.\"PostalCode\", employees.\"Phone\", employees.\"Fax\", employees.\"Email\" \n",
            "FROM employees\n"
          ]
        }
      ]
    },
    {
      "cell_type": "code",
      "metadata": {
        "id": "hoNMsf1iJzYN"
      },
      "source": [
        "result = conn.execute(query)"
      ],
      "execution_count": 26,
      "outputs": []
    },
    {
      "cell_type": "code",
      "metadata": {
        "colab": {
          "base_uri": "https://localhost:8080/"
        },
        "id": "1WXPIKf6J5aW",
        "outputId": "e033da38-6e8d-43d2-bda2-16aaa97ad767"
      },
      "source": [
        "result.fetchall()"
      ],
      "execution_count": 28,
      "outputs": [
        {
          "output_type": "execute_result",
          "data": {
            "text/plain": [
              "[]"
            ]
          },
          "metadata": {},
          "execution_count": 28
        }
      ]
    },
    {
      "cell_type": "markdown",
      "metadata": {
        "id": "5cLiwn6PcIii"
      },
      "source": [
        "### Example 2 - select-where"
      ]
    },
    {
      "cell_type": "markdown",
      "metadata": {
        "id": "T0VOjZ4aFLSg"
      },
      "source": [
        "**Task - Show the names of the albums which contain the phrase \"The best of\"**."
      ]
    },
    {
      "cell_type": "markdown",
      "metadata": {
        "id": "KFim22148_ux"
      },
      "source": [
        "We can use the `whereclause` argument of `select()`"
      ]
    },
    {
      "cell_type": "code",
      "metadata": {
        "id": "aUZRoelwifYJ"
      },
      "source": [
        "artists = Table('artists', metadata, autoload_with=engine)\n",
        "albums = Table('albums', metadata, autoload_with=engine)"
      ],
      "execution_count": 29,
      "outputs": []
    },
    {
      "cell_type": "code",
      "metadata": {
        "id": "0r8E7tcAGRNU"
      },
      "source": [
        "query = select(\n",
        "    albums.c.Title\n",
        ").where(\n",
        "    albums.c.Title.like('%the best of%')\n",
        ")"
      ],
      "execution_count": 30,
      "outputs": []
    },
    {
      "cell_type": "markdown",
      "metadata": {
        "id": "c_xUgXSr9HOr"
      },
      "source": [
        "Alternatively, we can use the `where()` method of the `Select` object."
      ]
    },
    {
      "cell_type": "code",
      "metadata": {
        "id": "JwHqv-u09Zou"
      },
      "source": [
        "query = select(albums).where(albums.columns.Title.like('%the best of%'))"
      ],
      "execution_count": 31,
      "outputs": []
    },
    {
      "cell_type": "code",
      "metadata": {
        "id": "ZJL9tRuvGRPv"
      },
      "source": [
        "result = conn.execute(query)"
      ],
      "execution_count": 32,
      "outputs": []
    },
    {
      "cell_type": "code",
      "metadata": {
        "colab": {
          "base_uri": "https://localhost:8080/"
        },
        "id": "OXqsTIcEGRWU",
        "outputId": "5da198a0-ba01-473f-e41c-b96960351fbf"
      },
      "source": [
        "result.fetchmany(5)"
      ],
      "execution_count": 33,
      "outputs": [
        {
          "output_type": "execute_result",
          "data": {
            "text/plain": [
              "[(13, 'The Best Of Billy Cobham', 10),\n",
              " (20, 'The Best Of Buddy Guy - The Millenium Collection', 15),\n",
              " (47, 'The Best of Ed Motta', 37),\n",
              " (61, \"Knocking at Your Back Door: The Best Of Deep Purple in the 80's\", 58),\n",
              " (83, 'My Way: The Best Of Frank Sinatra [Disc 1]', 85)]"
            ]
          },
          "metadata": {},
          "execution_count": 33
        }
      ]
    },
    {
      "cell_type": "markdown",
      "metadata": {
        "id": "yirqTJMiiLkk"
      },
      "source": [
        "### Example 3 - join"
      ]
    },
    {
      "cell_type": "markdown",
      "metadata": {
        "id": "dJAPCuE-FjnH"
      },
      "source": [
        "**Task - Show the names of all the albums and their artists.**"
      ]
    },
    {
      "cell_type": "markdown",
      "metadata": {
        "id": "JhqhVnPKJlIq"
      },
      "source": [
        "We use the [`join()`](https://docs.sqlalchemy.org/en/13/core/metadata.html?highlight=join#sqlalchemy.schema.Table.join) method."
      ]
    },
    {
      "cell_type": "code",
      "metadata": {
        "id": "A7zNJQOriRWl"
      },
      "source": [
        "join_stmt = artists.join(albums, artists.c.ArtistId == albums.c.ArtistId)"
      ],
      "execution_count": 34,
      "outputs": []
    },
    {
      "cell_type": "markdown",
      "metadata": {
        "id": "_PCif0w_I5QG"
      },
      "source": [
        "Now we can select from this Join object."
      ]
    },
    {
      "cell_type": "code",
      "metadata": {
        "id": "BoIOqvE58sVL",
        "outputId": "b4e18305-0308-42a4-d054-34377bb1c548",
        "colab": {
          "base_uri": "https://localhost:8080/"
        }
      },
      "source": [
        "import sqlalchemy\n",
        "from sqlalchemy import select, join\n",
        "\n",
        "# Create the engine\n",
        "engine = sqlalchemy.create_engine('sqlite:///chinook.db', echo=False)\n",
        "\n",
        "# Define the metadata\n",
        "metadata = sqlalchemy.MetaData()\n",
        "\n",
        "# Reflect the tables\n",
        "metadata.reflect(bind=engine)\n",
        "\n",
        "# Get the 'albums' and 'artists' tables from metadata\n",
        "albums = metadata.tables['albums']\n",
        "artists = metadata.tables['artists']\n",
        "\n",
        "# Define the join condition\n",
        "join_stmt = join(albums, artists, albums.c.ArtistId == artists.c.ArtistId)\n",
        "\n",
        "# Establish a connection\n",
        "conn = engine.connect()\n",
        "\n",
        "# Define the query to select columns from both tables and join them\n",
        "query = select(\n",
        "    albums.c.Title,\n",
        "    artists.c.Name\n",
        ").select_from(\n",
        "    join_stmt\n",
        ")\n",
        "\n",
        "# Execute the query on the connection\n",
        "result = conn.execute(query)\n",
        "\n",
        "# Fetch the results\n",
        "for row in result:\n",
        "    print(row)\n",
        "\n",
        "# Close the connection\n",
        "#conn.close()"
      ],
      "execution_count": 35,
      "outputs": [
        {
          "output_type": "stream",
          "name": "stdout",
          "text": [
            "('For Those About To Rock We Salute You', 'AC/DC')\n",
            "('Balls to the Wall', 'Accept')\n",
            "('Restless and Wild', 'Accept')\n",
            "('Let There Be Rock', 'AC/DC')\n",
            "('Big Ones', 'Aerosmith')\n",
            "('Jagged Little Pill', 'Alanis Morissette')\n",
            "('Facelift', 'Alice In Chains')\n",
            "('Warner 25 Anos', 'Antônio Carlos Jobim')\n",
            "('Plays Metallica By Four Cellos', 'Apocalyptica')\n",
            "('Audioslave', 'Audioslave')\n",
            "('Out Of Exile', 'Audioslave')\n",
            "('BackBeat Soundtrack', 'BackBeat')\n",
            "('The Best Of Billy Cobham', 'Billy Cobham')\n",
            "('Alcohol Fueled Brewtality Live! [Disc 1]', 'Black Label Society')\n",
            "('Alcohol Fueled Brewtality Live! [Disc 2]', 'Black Label Society')\n",
            "('Black Sabbath', 'Black Sabbath')\n",
            "('Black Sabbath Vol. 4 (Remaster)', 'Black Sabbath')\n",
            "('Body Count', 'Body Count')\n",
            "('Chemical Wedding', 'Bruce Dickinson')\n",
            "('The Best Of Buddy Guy - The Millenium Collection', 'Buddy Guy')\n",
            "('Prenda Minha', 'Caetano Veloso')\n",
            "('Sozinho Remix Ao Vivo', 'Caetano Veloso')\n",
            "('Minha Historia', 'Chico Buarque')\n",
            "('Afrociberdelia', 'Chico Science & Nação Zumbi')\n",
            "('Da Lama Ao Caos', 'Chico Science & Nação Zumbi')\n",
            "('Acústico MTV [Live]', 'Cidade Negra')\n",
            "('Cidade Negra - Hits', 'Cidade Negra')\n",
            "('Na Pista', 'Cláudio Zoli')\n",
            "('Axé Bahia 2001', 'Various Artists')\n",
            "('BBC Sessions [Disc 1] [Live]', 'Led Zeppelin')\n",
            "('Bongo Fury', 'Frank Zappa & Captain Beefheart')\n",
            "('Carnaval 2001', 'Various Artists')\n",
            "('Chill: Brazil (Disc 1)', 'Marcos Valle')\n",
            "('Chill: Brazil (Disc 2)', 'Antônio Carlos Jobim')\n",
            "('Garage Inc. (Disc 1)', 'Metallica')\n",
            "('Greatest Hits II', 'Queen')\n",
            "('Greatest Kiss', 'Kiss')\n",
            "('Heart of the Night', 'Spyro Gyra')\n",
            "('International Superhits', 'Green Day')\n",
            "('Into The Light', 'David Coverdale')\n",
            "('Meus Momentos', 'Gonzaguinha')\n",
            "('Minha História', 'Os Mutantes')\n",
            "('MK III The Final Concerts [Disc 1]', 'Deep Purple')\n",
            "('Physical Graffiti [Disc 1]', 'Led Zeppelin')\n",
            "('Sambas De Enredo 2001', 'Various Artists')\n",
            "('Supernatural', 'Santana')\n",
            "('The Best of Ed Motta', 'Ed Motta')\n",
            "('The Essential Miles Davis [Disc 1]', 'Miles Davis')\n",
            "('The Essential Miles Davis [Disc 2]', 'Miles Davis')\n",
            "('The Final Concerts (Disc 2)', 'Deep Purple')\n",
            "(\"Up An' Atom\", 'Gene Krupa')\n",
            "('Vinícius De Moraes - Sem Limite', 'Toquinho & Vinícius')\n",
            "('Vozes do MPB', 'Various Artists')\n",
            "('Chronicle, Vol. 1', 'Creedence Clearwater Revival')\n",
            "('Chronicle, Vol. 2', 'Creedence Clearwater Revival')\n",
            "('Cássia Eller - Coleção Sem Limite [Disc 2]', 'Cássia Eller')\n",
            "('Cássia Eller - Sem Limite [Disc 1]', 'Cássia Eller')\n",
            "('Come Taste The Band', 'Deep Purple')\n",
            "('Deep Purple In Rock', 'Deep Purple')\n",
            "('Fireball', 'Deep Purple')\n",
            "(\"Knocking at Your Back Door: The Best Of Deep Purple in the 80's\", 'Deep Purple')\n",
            "('Machine Head', 'Deep Purple')\n",
            "('Purpendicular', 'Deep Purple')\n",
            "('Slaves And Masters', 'Deep Purple')\n",
            "('Stormbringer', 'Deep Purple')\n",
            "('The Battle Rages On', 'Deep Purple')\n",
            "(\"Vault: Def Leppard's Greatest Hits\", 'Def Leppard')\n",
            "('Outbreak', 'Dennis Chambers')\n",
            "('Djavan Ao Vivo - Vol. 02', 'Djavan')\n",
            "('Djavan Ao Vivo - Vol. 1', 'Djavan')\n",
            "('Elis Regina-Minha História', 'Elis Regina')\n",
            "('The Cream Of Clapton', 'Eric Clapton')\n",
            "('Unplugged', 'Eric Clapton')\n",
            "('Album Of The Year', 'Faith No More')\n",
            "('Angel Dust', 'Faith No More')\n",
            "('King For A Day Fool For A Lifetime', 'Faith No More')\n",
            "('The Real Thing', 'Faith No More')\n",
            "('Deixa Entrar', 'Falamansa')\n",
            "('In Your Honor [Disc 1]', 'Foo Fighters')\n",
            "('In Your Honor [Disc 2]', 'Foo Fighters')\n",
            "('One By One', 'Foo Fighters')\n",
            "('The Colour And The Shape', 'Foo Fighters')\n",
            "('My Way: The Best Of Frank Sinatra [Disc 1]', 'Frank Sinatra')\n",
            "('Roda De Funk', 'Funk Como Le Gusta')\n",
            "('As Canções de Eu Tu Eles', 'Gilberto Gil')\n",
            "('Quanta Gente Veio Ver (Live)', 'Gilberto Gil')\n",
            "('Quanta Gente Veio ver--Bônus De Carnaval', 'Gilberto Gil')\n",
            "('Faceless', 'Godsmack')\n",
            "('American Idiot', 'Green Day')\n",
            "('Appetite for Destruction', \"Guns N' Roses\")\n",
            "('Use Your Illusion I', \"Guns N' Roses\")\n",
            "('Use Your Illusion II', \"Guns N' Roses\")\n",
            "('Blue Moods', 'Incognito')\n",
            "('A Matter of Life and Death', 'Iron Maiden')\n",
            "('A Real Dead One', 'Iron Maiden')\n",
            "('A Real Live One', 'Iron Maiden')\n",
            "('Brave New World', 'Iron Maiden')\n",
            "('Dance Of Death', 'Iron Maiden')\n",
            "('Fear Of The Dark', 'Iron Maiden')\n",
            "('Iron Maiden', 'Iron Maiden')\n",
            "('Killers', 'Iron Maiden')\n",
            "('Live After Death', 'Iron Maiden')\n",
            "('Live At Donington 1992 (Disc 1)', 'Iron Maiden')\n",
            "('Live At Donington 1992 (Disc 2)', 'Iron Maiden')\n",
            "('No Prayer For The Dying', 'Iron Maiden')\n",
            "('Piece Of Mind', 'Iron Maiden')\n",
            "('Powerslave', 'Iron Maiden')\n",
            "('Rock In Rio [CD1]', 'Iron Maiden')\n",
            "('Rock In Rio [CD2]', 'Iron Maiden')\n",
            "('Seventh Son of a Seventh Son', 'Iron Maiden')\n",
            "('Somewhere in Time', 'Iron Maiden')\n",
            "('The Number of The Beast', 'Iron Maiden')\n",
            "('The X Factor', 'Iron Maiden')\n",
            "('Virtual XI', 'Iron Maiden')\n",
            "('Sex Machine', 'James Brown')\n",
            "('Emergency On Planet Earth', 'Jamiroquai')\n",
            "('Synkronized', 'Jamiroquai')\n",
            "('The Return Of The Space Cowboy', 'Jamiroquai')\n",
            "('Get Born', 'JET')\n",
            "('Are You Experienced?', 'Jimi Hendrix')\n",
            "('Surfing with the Alien (Remastered)', 'Joe Satriani')\n",
            "('Jorge Ben Jor 25 Anos', 'Jorge Ben')\n",
            "('Jota Quest-1995', 'Jota Quest')\n",
            "('Cafezinho', 'João Suplicy')\n",
            "('Living After Midnight', 'Judas Priest')\n",
            "('Unplugged [Live]', 'Kiss')\n",
            "('BBC Sessions [Disc 2] [Live]', 'Led Zeppelin')\n",
            "('Coda', 'Led Zeppelin')\n",
            "('Houses Of The Holy', 'Led Zeppelin')\n",
            "('In Through The Out Door', 'Led Zeppelin')\n",
            "('IV', 'Led Zeppelin')\n",
            "('Led Zeppelin I', 'Led Zeppelin')\n",
            "('Led Zeppelin II', 'Led Zeppelin')\n",
            "('Led Zeppelin III', 'Led Zeppelin')\n",
            "('Physical Graffiti [Disc 2]', 'Led Zeppelin')\n",
            "('Presence', 'Led Zeppelin')\n",
            "('The Song Remains The Same (Disc 1)', 'Led Zeppelin')\n",
            "('The Song Remains The Same (Disc 2)', 'Led Zeppelin')\n",
            "('A TempestadeTempestade Ou O Livro Dos Dias', 'Legião Urbana')\n",
            "('Mais Do Mesmo', 'Legião Urbana')\n",
            "('Greatest Hits', 'Lenny Kravitz')\n",
            "('Lulu Santos - RCA 100 Anos De Música - Álbum 01', 'Lulu Santos')\n",
            "('Lulu Santos - RCA 100 Anos De Música - Álbum 02', 'Lulu Santos')\n",
            "('Misplaced Childhood', 'Marillion')\n",
            "('Barulhinho Bom', 'Marisa Monte')\n",
            "('Seek And Shall Find: More Of The Best (1963-1981)', 'Marvin Gaye')\n",
            "('The Best Of Men At Work', 'Men At Work')\n",
            "('Black Album', 'Metallica')\n",
            "('Garage Inc. (Disc 2)', 'Metallica')\n",
            "(\"Kill 'Em All\", 'Metallica')\n",
            "('Load', 'Metallica')\n",
            "('Master Of Puppets', 'Metallica')\n",
            "('ReLoad', 'Metallica')\n",
            "('Ride The Lightning', 'Metallica')\n",
            "('St. Anger', 'Metallica')\n",
            "('...And Justice For All', 'Metallica')\n",
            "('Miles Ahead', 'Miles Davis')\n",
            "('Milton Nascimento Ao Vivo', 'Milton Nascimento')\n",
            "('Minas', 'Milton Nascimento')\n",
            "('Ace Of Spades', 'Motörhead')\n",
            "('Demorou...', 'Mônica Marianno')\n",
            "('Motley Crue Greatest Hits', 'Mötley Crüe')\n",
            "('From The Muddy Banks Of The Wishkah [Live]', 'Nirvana')\n",
            "('Nevermind', 'Nirvana')\n",
            "('Compositores', 'O Terço')\n",
            "('Olodum', 'Olodum')\n",
            "('Acústico MTV', 'Os Paralamas Do Sucesso')\n",
            "('Arquivo II', 'Os Paralamas Do Sucesso')\n",
            "('Arquivo Os Paralamas Do Sucesso', 'Os Paralamas Do Sucesso')\n",
            "('Bark at the Moon (Remastered)', 'Ozzy Osbourne')\n",
            "('Blizzard of Ozz', 'Ozzy Osbourne')\n",
            "('Diary of a Madman (Remastered)', 'Ozzy Osbourne')\n",
            "('No More Tears (Remastered)', 'Ozzy Osbourne')\n",
            "('Tribute', 'Ozzy Osbourne')\n",
            "('Walking Into Clarksdale', 'Page & Plant')\n",
            "('Original Soundtracks 1', 'Passengers')\n",
            "('The Beast Live', \"Paul D'Ianno\")\n",
            "('Live On Two Legs [Live]', 'Pearl Jam')\n",
            "('Pearl Jam', 'Pearl Jam')\n",
            "('Riot Act', 'Pearl Jam')\n",
            "('Ten', 'Pearl Jam')\n",
            "('Vs.', 'Pearl Jam')\n",
            "('Dark Side Of The Moon', 'Pink Floyd')\n",
            "('Os Cães Ladram Mas A Caravana Não Pára', 'Planet Hemp')\n",
            "('Greatest Hits I', 'Queen')\n",
            "('News Of The World', 'Queen')\n",
            "('Out Of Time', 'R.E.M. Feat. Kate Pearson')\n",
            "('Green', 'R.E.M.')\n",
            "('New Adventures In Hi-Fi', 'R.E.M.')\n",
            "('The Best Of R.E.M.: The IRS Years', 'R.E.M.')\n",
            "('Cesta Básica', 'Raimundos')\n",
            "('Raul Seixas', 'Raul Seixas')\n",
            "('Blood Sugar Sex Magik', 'Red Hot Chili Peppers')\n",
            "('By The Way', 'Red Hot Chili Peppers')\n",
            "('Californication', 'Red Hot Chili Peppers')\n",
            "('Retrospective I (1974-1980)', 'Rush')\n",
            "('Santana - As Years Go By', 'Santana')\n",
            "('Santana Live', 'Santana')\n",
            "('Maquinarama', 'Skank')\n",
            "('O Samba Poconé', 'Skank')\n",
            "('Judas 0: B-Sides and Rarities', 'Smashing Pumpkins')\n",
            "('Rotten Apples: Greatest Hits', 'Smashing Pumpkins')\n",
            "('A-Sides', 'Soundgarden')\n",
            "('Morning Dance', 'Spyro Gyra')\n",
            "('In Step', 'Stevie Ray Vaughan & Double Trouble')\n",
            "('Core', 'Stone Temple Pilots')\n",
            "('Mezmerize', 'System Of A Down')\n",
            "('[1997] Black Light Syndrome', 'Terry Bozzio, Tony Levin & Steve Stevens')\n",
            "('Live [Disc 1]', 'The Black Crowes')\n",
            "('Live [Disc 2]', 'The Black Crowes')\n",
            "('The Singles', 'The Clash')\n",
            "('Beyond Good And Evil', 'The Cult')\n",
            "('Pure Cult: The Best Of The Cult (For Rockers, Ravers, Lovers & Sinners) [UK]', 'The Cult')\n",
            "('The Doors', 'The Doors')\n",
            "('The Police Greatest Hits', 'The Police')\n",
            "('Hot Rocks, 1964-1971 (Disc 1)', 'The Rolling Stones')\n",
            "('No Security', 'The Rolling Stones')\n",
            "('Voodoo Lounge', 'The Rolling Stones')\n",
            "('Tangents', 'The Tea Party')\n",
            "('Transmission', 'The Tea Party')\n",
            "('My Generation - The Very Best Of The Who', 'The Who')\n",
            "('Serie Sem Limite (Disc 1)', 'Tim Maia')\n",
            "('Serie Sem Limite (Disc 2)', 'Tim Maia')\n",
            "('Acústico', 'Titãs')\n",
            "('Volume Dois', 'Titãs')\n",
            "('Battlestar Galactica: The Story So Far', 'Battlestar Galactica')\n",
            "('Battlestar Galactica, Season 3', 'Battlestar Galactica')\n",
            "('Heroes, Season 1', 'Heroes')\n",
            "('Lost, Season 3', 'Lost')\n",
            "('Lost, Season 1', 'Lost')\n",
            "('Lost, Season 2', 'Lost')\n",
            "('Achtung Baby', 'U2')\n",
            "(\"All That You Can't Leave Behind\", 'U2')\n",
            "('B-Sides 1980-1990', 'U2')\n",
            "('How To Dismantle An Atomic Bomb', 'U2')\n",
            "('Pop', 'U2')\n",
            "('Rattle And Hum', 'U2')\n",
            "('The Best Of 1980-1990', 'U2')\n",
            "('War', 'U2')\n",
            "('Zooropa', 'U2')\n",
            "('UB40 The Best Of - Volume Two [UK]', 'UB40')\n",
            "('Diver Down', 'Van Halen')\n",
            "('The Best Of Van Halen, Vol. I', 'Van Halen')\n",
            "('Van Halen', 'Van Halen')\n",
            "('Van Halen III', 'Van Halen')\n",
            "('Contraband', 'Velvet Revolver')\n",
            "('Vinicius De Moraes', 'Vinícius De Moraes')\n",
            "('Ao Vivo [IMPORT]', 'Zeca Pagodinho')\n",
            "('The Office, Season 1', 'The Office')\n",
            "('The Office, Season 2', 'The Office')\n",
            "('The Office, Season 3', 'The Office')\n",
            "('Un-Led-Ed', 'Dread Zeppelin')\n",
            "('Battlestar Galactica (Classic), Season 1', 'Battlestar Galactica (Classic)')\n",
            "('Aquaman', 'Aquaman')\n",
            "('Instant Karma: The Amnesty International Campaign to Save Darfur', 'U2')\n",
            "('Speak of the Devil', 'Ozzy Osbourne')\n",
            "('20th Century Masters - The Millennium Collection: The Best of Scorpions', 'Scorpions')\n",
            "('House of Pain', 'House Of Pain')\n",
            "('Radio Brasil (O Som da Jovem Vanguarda) - Seleccao de Henrique Amaro', 'O Rappa')\n",
            "('Cake: B-Sides and Rarities', 'Cake')\n",
            "('LOST, Season 4', 'Lost')\n",
            "('Quiet Songs', 'Aisha Duo')\n",
            "('Muso Ko', 'Habib Koité and Bamada')\n",
            "('Realize', 'Karsh Kale')\n",
            "('Every Kind of Light', 'The Posies')\n",
            "('Duos II', 'Luciana Souza/Romero Lubambo')\n",
            "('Worlds', 'Aaron Goldberg')\n",
            "('The Best of Beethoven', 'Nicolaus Esterhazy Sinfonia')\n",
            "('Temple of the Dog', 'Temple of the Dog')\n",
            "('Carry On', 'Chris Cornell')\n",
            "('Revelations', 'Audioslave')\n",
            "('Adorate Deum: Gregorian Chant from the Proper of the Mass', 'Alberto Turco & Nova Schola Gregoriana')\n",
            "('Allegri: Miserere', 'Richard Marlow & The Choir of Trinity College, Cambridge')\n",
            "('Pachelbel: Canon & Gigue', 'English Concert & Trevor Pinnock')\n",
            "('Vivaldi: The Four Seasons', 'Anne-Sophie Mutter, Herbert Von Karajan & Wiener Philharmoniker')\n",
            "('Bach: Violin Concertos', 'Hilary Hahn, Jeffrey Kahane, Los Angeles Chamber Orchestra & Margaret Batjer')\n",
            "('Bach: Goldberg Variations', 'Wilhelm Kempff')\n",
            "('Bach: The Cello Suites', 'Yo-Yo Ma')\n",
            "('Handel: The Messiah (Highlights)', 'Scholars Baroque Ensemble')\n",
            "('The World of Classical Favourites', 'Academy of St. Martin in the Fields & Sir Neville Marriner')\n",
            "('Sir Neville Marriner: A Celebration', 'Academy of St. Martin in the Fields Chamber Ensemble & Sir Neville Marriner')\n",
            "('Mozart: Wind Concertos', 'Berliner Philharmoniker, Claudio Abbado & Sabine Meyer')\n",
            "('Haydn: Symphonies 99 - 104', 'Royal Philharmonic Orchestra & Sir Thomas Beecham')\n",
            "('Beethoven: Symhonies Nos. 5 & 6', 'Orchestre Révolutionnaire et Romantique & John Eliot Gardiner')\n",
            "('A Soprano Inspired', 'Britten Sinfonia, Ivor Bolton & Lesley Garrett')\n",
            "('Great Opera Choruses', 'Chicago Symphony Chorus, Chicago Symphony Orchestra & Sir Georg Solti')\n",
            "('Wagner: Favourite Overtures', 'Sir Georg Solti & Wiener Philharmoniker')\n",
            "('Fauré: Requiem, Ravel: Pavane & Others', 'Academy of St. Martin in the Fields, John Birch, Sir Neville Marriner & Sylvia McNair')\n",
            "('Tchaikovsky: The Nutcracker', 'London Symphony Orchestra & Sir Charles Mackerras')\n",
            "('The Last Night of the Proms', 'Barry Wordsworth & BBC Concert Orchestra')\n",
            "('Puccini: Madama Butterfly - Highlights', 'Herbert Von Karajan, Mirella Freni & Wiener Philharmoniker')\n",
            "('Holst: The Planets, Op. 32 & Vaughan Williams: Fantasies', 'Eugene Ormandy')\n",
            "(\"Pavarotti's Opera Made Easy\", 'Luciano Pavarotti')\n",
            "(\"Great Performances - Barber's Adagio and Other Romantic Favorites for Strings\", 'Leonard Bernstein & New York Philharmonic')\n",
            "('Carmina Burana', 'Boston Symphony Orchestra & Seiji Ozawa')\n",
            "('A Copland Celebration, Vol. I', 'Aaron Copland & London Symphony Orchestra')\n",
            "('Bach: Toccata & Fugue in D Minor', 'Ton Koopman')\n",
            "('Prokofiev: Symphony No.1', 'Sergei Prokofiev & Yuri Temirkanov')\n",
            "('Scheherazade', 'Chicago Symphony Orchestra & Fritz Reiner')\n",
            "('Bach: The Brandenburg Concertos', 'Orchestra of The Age of Enlightenment')\n",
            "('Chopin: Piano Concertos Nos. 1 & 2', 'Emanuel Ax, Eugene Ormandy & Philadelphia Orchestra')\n",
            "('Mascagni: Cavalleria Rusticana', 'James Levine')\n",
            "('Sibelius: Finlandia', 'Berliner Philharmoniker & Hans Rosbaud')\n",
            "('Beethoven Piano Sonatas: Moonlight & Pastorale', 'Maurizio Pollini')\n",
            "('Great Recordings of the Century - Mahler: Das Lied von der Erde', 'Gustav Mahler')\n",
            "('Elgar: Cello Concerto & Vaughan Williams: Fantasias', 'Felix Schmidt, London Symphony Orchestra & Rafael Frühbeck de Burgos')\n",
            "('Adams, John: The Chairman Dances', 'Edo de Waart & San Francisco Symphony')\n",
            "(\"Tchaikovsky: 1812 Festival Overture, Op.49, Capriccio Italien & Beethoven: Wellington's Victory\", 'Antal Doráti & London Symphony Orchestra')\n",
            "('Palestrina: Missa Papae Marcelli & Allegri: Miserere', 'Choir Of Westminster Abbey & Simon Preston')\n",
            "('Prokofiev: Romeo & Juliet', 'Michael Tilson Thomas & San Francisco Symphony')\n",
            "('Strauss: Waltzes', 'Eugene Ormandy')\n",
            "('Berlioz: Symphonie Fantastique', 'Michael Tilson Thomas & San Francisco Symphony')\n",
            "('Bizet: Carmen Highlights', 'Chor der Wiener Staatsoper, Herbert Von Karajan & Wiener Philharmoniker')\n",
            "('English Renaissance', \"The King's Singers\")\n",
            "('Handel: Music for the Royal Fireworks (Original Version 1749)', 'English Concert & Trevor Pinnock')\n",
            "('Grieg: Peer Gynt Suites & Sibelius: Pelléas et Mélisande', 'Berliner Philharmoniker & Herbert Von Karajan')\n",
            "('Mozart Gala: Famous Arias', 'Sir Georg Solti, Sumi Jo & Wiener Philharmoniker')\n",
            "('SCRIABIN: Vers la flamme', \"Christopher O'Riley\")\n",
            "('Armada: Music from the Courts of England and Spain', 'Fretwork')\n",
            "('Mozart: Symphonies Nos. 40 & 41', 'Berliner Philharmoniker & Herbert Von Karajan')\n",
            "('Back to Black', 'Amy Winehouse')\n",
            "('Frank', 'Amy Winehouse')\n",
            "('Carried to Dust (Bonus Track Version)', 'Calexico')\n",
            "(\"Beethoven: Symphony No. 6 'Pastoral' Etc.\", 'Otto Klemperer & Philharmonia Orchestra')\n",
            "('Bartok: Violin & Viola Concertos', 'Yehudi Menuhin')\n",
            "(\"Mendelssohn: A Midsummer Night's Dream\", 'Philharmonia Orchestra & Sir Neville Marriner')\n",
            "('Bach: Orchestral Suites Nos. 1 - 4', 'Academy of St. Martin in the Fields, Sir Neville Marriner & Thurston Dart')\n",
            "('Charpentier: Divertissements, Airs & Concerts', 'Les Arts Florissants & William Christie')\n",
            "('South American Getaway', 'The 12 Cellists of The Berlin Philharmonic')\n",
            "('Górecki: Symphony No. 3', 'Adrian Leaper & Doreen de Feis')\n",
            "('Purcell: The Fairy Queen', 'Roger Norrington, London Classical Players')\n",
            "('The Ultimate Relexation Album', \"Charles Dutoit & L'Orchestre Symphonique de Montréal\")\n",
            "('Purcell: Music for the Queen Mary', 'Equale Brass Ensemble, John Eliot Gardiner & Munich Monteverdi Orchestra and Choir')\n",
            "('Weill: The Seven Deadly Sins', \"Kent Nagano and Orchestre de l'Opéra de Lyon\")\n",
            "('J.S. Bach: Chaconne, Suite in E Minor, Partita in E Major & Prelude, Fugue and Allegro', 'Julian Bream')\n",
            "('Prokofiev: Symphony No.5 & Stravinksy: Le Sacre Du Printemps', 'Berliner Philharmoniker & Herbert Von Karajan')\n",
            "('Szymanowski: Piano Works, Vol. 1', 'Martin Roscoe')\n",
            "('Nielsen: The Six Symphonies', 'Göteborgs Symfoniker & Neeme Järvi')\n",
            "(\"Great Recordings of the Century: Paganini's 24 Caprices\", 'Itzhak Perlman')\n",
            "(\"Liszt - 12 Études D'Execution Transcendante\", 'Michele Campanella')\n",
            "('Great Recordings of the Century - Shubert: Schwanengesang, 4 Lieder', 'Gerald Moore')\n",
            "('Locatelli: Concertos for Violin, Strings and Continuo, Vol. 3', 'Mela Tenenbaum, Pro Musica Prague & Richard Kapp')\n",
            "('Respighi:Pines of Rome', 'Eugene Ormandy')\n",
            "(\"Schubert: The Late String Quartets & String Quintet (3 CD's)\", 'Emerson String Quartet')\n",
            "(\"Monteverdi: L'Orfeo\", 'C. Monteverdi, Nigel Rogers - Chiaroscuro; London Baroque; London Cornett & Sackbu')\n",
            "('Mozart: Chamber Music', 'Nash Ensemble')\n",
            "('Koyaanisqatsi (Soundtrack from the Motion Picture)', 'Philip Glass Ensemble')\n"
          ]
        }
      ]
    },
    {
      "cell_type": "markdown",
      "metadata": {
        "id": "sxb9xq2K4SW7"
      },
      "source": [
        "Alternatively, when we use JOINs we know what FROM clause we want, so here we make use of the [`select_from()`](https://docs.sqlalchemy.org/en/13/core/selectable.html?highlight=select_from#sqlalchemy.sql.expression.Select.select_from) method."
      ]
    },
    {
      "cell_type": "code",
      "metadata": {
        "id": "mCONYYK2GRa4"
      },
      "source": [
        "query = select(albums.c.Title, artists.c.Name).select_from(join_stmt)"
      ],
      "execution_count": null,
      "outputs": []
    },
    {
      "cell_type": "code",
      "metadata": {
        "id": "5vZnoYKFGRdO"
      },
      "source": [
        "\n",
        "result = conn.execute(query)"
      ],
      "execution_count": null,
      "outputs": []
    },
    {
      "cell_type": "code",
      "metadata": {
        "colab": {
          "base_uri": "https://localhost:8080/"
        },
        "id": "PcKFi4VCjGst",
        "outputId": "4549e4c7-77f2-442d-ed1d-4cf25d882fbf"
      },
      "source": [
        "result.fetchmany(5)"
      ],
      "execution_count": null,
      "outputs": [
        {
          "output_type": "execute_result",
          "data": {
            "text/plain": [
              "[('For Those About To Rock We Salute You', 'AC/DC'),\n",
              " ('Balls to the Wall', 'Accept'),\n",
              " ('Restless and Wild', 'Accept'),\n",
              " ('Let There Be Rock', 'AC/DC'),\n",
              " ('Big Ones', 'Aerosmith')]"
            ]
          },
          "metadata": {},
          "execution_count": 67
        }
      ]
    },
    {
      "cell_type": "markdown",
      "metadata": {
        "id": "KEweNNnB6i_X"
      },
      "source": [
        "### Example 4 - Group By and SQL functions"
      ]
    },
    {
      "cell_type": "markdown",
      "metadata": {
        "id": "Ag2-zflyKZyM"
      },
      "source": [
        "**Task - Show for each customer (name) the number of invoinces they had.**"
      ]
    },
    {
      "cell_type": "markdown",
      "metadata": {
        "id": "KdwtP4jf6nau"
      },
      "source": [
        "> **Reference:** Very often we wish to apply a function on the data. Built-in SQL functions are available through the [`func` module](https://docs.sqlalchemy.org/en/13/core/tutorial.html#functions)."
      ]
    },
    {
      "cell_type": "markdown",
      "metadata": {
        "id": "BGW7sc_T16YC"
      },
      "source": [
        "See here details about the [`group_by()`](https://docs.sqlalchemy.org/en/13/core/tutorial.html#ordering-grouping-limiting-offset-ing) method."
      ]
    },
    {
      "cell_type": "code",
      "metadata": {
        "id": "1qmXJBBN92fx"
      },
      "source": [
        "invoices = Table('invoices', metadata, autoload_with=engine)\n",
        "customers = Table('customers', metadata, autoload_with=engine)"
      ],
      "execution_count": 36,
      "outputs": []
    },
    {
      "cell_type": "markdown",
      "metadata": {
        "id": "_-gVjHWxK0Kg"
      },
      "source": [
        "Let's try first without the names of the customers."
      ]
    },
    {
      "cell_type": "code",
      "metadata": {
        "id": "TT_gRSlYC-k8"
      },
      "source": [
        "query = select(invoices.c.CustomerId, func.count(invoices.c.InvoiceId))\\\n",
        "            .select_from(invoices)\\\n",
        "            .group_by(invoices.c.CustomerId)"
      ],
      "execution_count": 37,
      "outputs": []
    },
    {
      "cell_type": "code",
      "metadata": {
        "colab": {
          "base_uri": "https://localhost:8080/"
        },
        "id": "l3k2A_0UEf6Q",
        "outputId": "53c4cbd5-e3c6-4bf8-84ba-2e27a5861eee"
      },
      "source": [
        "conn.execute(query).fetchmany(5)"
      ],
      "execution_count": 38,
      "outputs": [
        {
          "output_type": "execute_result",
          "data": {
            "text/plain": [
              "[(1, 7), (2, 7), (3, 7), (4, 7), (5, 7)]"
            ]
          },
          "metadata": {},
          "execution_count": 38
        }
      ]
    },
    {
      "cell_type": "markdown",
      "metadata": {
        "id": "Wj3zlPXaK8ps"
      },
      "source": [
        "And now with the names."
      ]
    },
    {
      "cell_type": "code",
      "metadata": {
        "id": "yqECaDWmD3s7"
      },
      "source": [
        "query = select(customers.c.FirstName + \" \" + customers.c.LastName, func.count(invoices.c.InvoiceId))\\\n",
        "            .select_from(invoices.join(customers, invoices.c.CustomerId == customers.c.CustomerId))\\\n",
        "            .group_by(invoices.c.CustomerId)"
      ],
      "execution_count": 39,
      "outputs": []
    },
    {
      "cell_type": "code",
      "metadata": {
        "colab": {
          "base_uri": "https://localhost:8080/"
        },
        "id": "_ynxBHA19-8I",
        "outputId": "bcd9d775-9cf1-4008-d0c5-52f6b0f29930"
      },
      "source": [
        "conn.execute(query).fetchmany(5)"
      ],
      "execution_count": 40,
      "outputs": [
        {
          "output_type": "execute_result",
          "data": {
            "text/plain": [
              "[('Luís Gonçalves', 7),\n",
              " ('Leonie Köhler', 7),\n",
              " ('François Tremblay', 7),\n",
              " ('Bjørn Hansen', 7),\n",
              " ('František Wichterlová', 7)]"
            ]
          },
          "metadata": {},
          "execution_count": 40
        }
      ]
    },
    {
      "cell_type": "markdown",
      "metadata": {
        "id": "wKqYtO0z5NIT"
      },
      "source": [
        "## Relation to pandas"
      ]
    },
    {
      "cell_type": "markdown",
      "metadata": {
        "id": "dhSrLNVv7Q6e"
      },
      "source": [
        "### Tables (SQLAlchemy) vs. DataFrames (pandas)"
      ]
    },
    {
      "cell_type": "markdown",
      "metadata": {
        "id": "DSCiW7Ls7cAn"
      },
      "source": [
        "Very often we would like to save our query result as a data-frame. Luckily, the `ResultProxy.fetchall()` method returns a list of results that can be constructed as a data-frame using the standard `pd.DataFrame()` constructor."
      ]
    },
    {
      "cell_type": "code",
      "metadata": {
        "id": "LC1Zy160922f"
      },
      "source": [
        "query = select(albums)\n",
        "result = conn.execute(query)"
      ],
      "execution_count": 41,
      "outputs": []
    },
    {
      "cell_type": "code",
      "metadata": {
        "colab": {
          "base_uri": "https://localhost:8080/",
          "height": 206
        },
        "id": "IWWH7zfi6mT0",
        "outputId": "2c11c6a8-0361-4ef5-f96d-12bf9907ec0d"
      },
      "source": [
        "df_albums = pd.DataFrame(result.fetchall(), columns=result.keys())\n",
        "df_albums.head()"
      ],
      "execution_count": 42,
      "outputs": [
        {
          "output_type": "execute_result",
          "data": {
            "text/plain": [
              "   AlbumId                                  Title  ArtistId\n",
              "0        1  For Those About To Rock We Salute You         1\n",
              "1        2                      Balls to the Wall         2\n",
              "2        3                      Restless and Wild         2\n",
              "3        4                      Let There Be Rock         1\n",
              "4        5                               Big Ones         3"
            ],
            "text/html": [
              "\n",
              "  <div id=\"df-c778b0cc-acf3-437b-8aee-4392a91236ea\" class=\"colab-df-container\">\n",
              "    <div>\n",
              "<style scoped>\n",
              "    .dataframe tbody tr th:only-of-type {\n",
              "        vertical-align: middle;\n",
              "    }\n",
              "\n",
              "    .dataframe tbody tr th {\n",
              "        vertical-align: top;\n",
              "    }\n",
              "\n",
              "    .dataframe thead th {\n",
              "        text-align: right;\n",
              "    }\n",
              "</style>\n",
              "<table border=\"1\" class=\"dataframe\">\n",
              "  <thead>\n",
              "    <tr style=\"text-align: right;\">\n",
              "      <th></th>\n",
              "      <th>AlbumId</th>\n",
              "      <th>Title</th>\n",
              "      <th>ArtistId</th>\n",
              "    </tr>\n",
              "  </thead>\n",
              "  <tbody>\n",
              "    <tr>\n",
              "      <th>0</th>\n",
              "      <td>1</td>\n",
              "      <td>For Those About To Rock We Salute You</td>\n",
              "      <td>1</td>\n",
              "    </tr>\n",
              "    <tr>\n",
              "      <th>1</th>\n",
              "      <td>2</td>\n",
              "      <td>Balls to the Wall</td>\n",
              "      <td>2</td>\n",
              "    </tr>\n",
              "    <tr>\n",
              "      <th>2</th>\n",
              "      <td>3</td>\n",
              "      <td>Restless and Wild</td>\n",
              "      <td>2</td>\n",
              "    </tr>\n",
              "    <tr>\n",
              "      <th>3</th>\n",
              "      <td>4</td>\n",
              "      <td>Let There Be Rock</td>\n",
              "      <td>1</td>\n",
              "    </tr>\n",
              "    <tr>\n",
              "      <th>4</th>\n",
              "      <td>5</td>\n",
              "      <td>Big Ones</td>\n",
              "      <td>3</td>\n",
              "    </tr>\n",
              "  </tbody>\n",
              "</table>\n",
              "</div>\n",
              "    <div class=\"colab-df-buttons\">\n",
              "\n",
              "  <div class=\"colab-df-container\">\n",
              "    <button class=\"colab-df-convert\" onclick=\"convertToInteractive('df-c778b0cc-acf3-437b-8aee-4392a91236ea')\"\n",
              "            title=\"Convert this dataframe to an interactive table.\"\n",
              "            style=\"display:none;\">\n",
              "\n",
              "  <svg xmlns=\"http://www.w3.org/2000/svg\" height=\"24px\" viewBox=\"0 -960 960 960\">\n",
              "    <path d=\"M120-120v-720h720v720H120Zm60-500h600v-160H180v160Zm220 220h160v-160H400v160Zm0 220h160v-160H400v160ZM180-400h160v-160H180v160Zm440 0h160v-160H620v160ZM180-180h160v-160H180v160Zm440 0h160v-160H620v160Z\"/>\n",
              "  </svg>\n",
              "    </button>\n",
              "\n",
              "  <style>\n",
              "    .colab-df-container {\n",
              "      display:flex;\n",
              "      gap: 12px;\n",
              "    }\n",
              "\n",
              "    .colab-df-convert {\n",
              "      background-color: #E8F0FE;\n",
              "      border: none;\n",
              "      border-radius: 50%;\n",
              "      cursor: pointer;\n",
              "      display: none;\n",
              "      fill: #1967D2;\n",
              "      height: 32px;\n",
              "      padding: 0 0 0 0;\n",
              "      width: 32px;\n",
              "    }\n",
              "\n",
              "    .colab-df-convert:hover {\n",
              "      background-color: #E2EBFA;\n",
              "      box-shadow: 0px 1px 2px rgba(60, 64, 67, 0.3), 0px 1px 3px 1px rgba(60, 64, 67, 0.15);\n",
              "      fill: #174EA6;\n",
              "    }\n",
              "\n",
              "    .colab-df-buttons div {\n",
              "      margin-bottom: 4px;\n",
              "    }\n",
              "\n",
              "    [theme=dark] .colab-df-convert {\n",
              "      background-color: #3B4455;\n",
              "      fill: #D2E3FC;\n",
              "    }\n",
              "\n",
              "    [theme=dark] .colab-df-convert:hover {\n",
              "      background-color: #434B5C;\n",
              "      box-shadow: 0px 1px 3px 1px rgba(0, 0, 0, 0.15);\n",
              "      filter: drop-shadow(0px 1px 2px rgba(0, 0, 0, 0.3));\n",
              "      fill: #FFFFFF;\n",
              "    }\n",
              "  </style>\n",
              "\n",
              "    <script>\n",
              "      const buttonEl =\n",
              "        document.querySelector('#df-c778b0cc-acf3-437b-8aee-4392a91236ea button.colab-df-convert');\n",
              "      buttonEl.style.display =\n",
              "        google.colab.kernel.accessAllowed ? 'block' : 'none';\n",
              "\n",
              "      async function convertToInteractive(key) {\n",
              "        const element = document.querySelector('#df-c778b0cc-acf3-437b-8aee-4392a91236ea');\n",
              "        const dataTable =\n",
              "          await google.colab.kernel.invokeFunction('convertToInteractive',\n",
              "                                                    [key], {});\n",
              "        if (!dataTable) return;\n",
              "\n",
              "        const docLinkHtml = 'Like what you see? Visit the ' +\n",
              "          '<a target=\"_blank\" href=https://colab.research.google.com/notebooks/data_table.ipynb>data table notebook</a>'\n",
              "          + ' to learn more about interactive tables.';\n",
              "        element.innerHTML = '';\n",
              "        dataTable['output_type'] = 'display_data';\n",
              "        await google.colab.output.renderOutput(dataTable, element);\n",
              "        const docLink = document.createElement('div');\n",
              "        docLink.innerHTML = docLinkHtml;\n",
              "        element.appendChild(docLink);\n",
              "      }\n",
              "    </script>\n",
              "  </div>\n",
              "\n",
              "\n",
              "<div id=\"df-8be59ae1-5cee-4775-8573-bf437af59f5b\">\n",
              "  <button class=\"colab-df-quickchart\" onclick=\"quickchart('df-8be59ae1-5cee-4775-8573-bf437af59f5b')\"\n",
              "            title=\"Suggest charts\"\n",
              "            style=\"display:none;\">\n",
              "\n",
              "<svg xmlns=\"http://www.w3.org/2000/svg\" height=\"24px\"viewBox=\"0 0 24 24\"\n",
              "     width=\"24px\">\n",
              "    <g>\n",
              "        <path d=\"M19 3H5c-1.1 0-2 .9-2 2v14c0 1.1.9 2 2 2h14c1.1 0 2-.9 2-2V5c0-1.1-.9-2-2-2zM9 17H7v-7h2v7zm4 0h-2V7h2v10zm4 0h-2v-4h2v4z\"/>\n",
              "    </g>\n",
              "</svg>\n",
              "  </button>\n",
              "\n",
              "<style>\n",
              "  .colab-df-quickchart {\n",
              "      --bg-color: #E8F0FE;\n",
              "      --fill-color: #1967D2;\n",
              "      --hover-bg-color: #E2EBFA;\n",
              "      --hover-fill-color: #174EA6;\n",
              "      --disabled-fill-color: #AAA;\n",
              "      --disabled-bg-color: #DDD;\n",
              "  }\n",
              "\n",
              "  [theme=dark] .colab-df-quickchart {\n",
              "      --bg-color: #3B4455;\n",
              "      --fill-color: #D2E3FC;\n",
              "      --hover-bg-color: #434B5C;\n",
              "      --hover-fill-color: #FFFFFF;\n",
              "      --disabled-bg-color: #3B4455;\n",
              "      --disabled-fill-color: #666;\n",
              "  }\n",
              "\n",
              "  .colab-df-quickchart {\n",
              "    background-color: var(--bg-color);\n",
              "    border: none;\n",
              "    border-radius: 50%;\n",
              "    cursor: pointer;\n",
              "    display: none;\n",
              "    fill: var(--fill-color);\n",
              "    height: 32px;\n",
              "    padding: 0;\n",
              "    width: 32px;\n",
              "  }\n",
              "\n",
              "  .colab-df-quickchart:hover {\n",
              "    background-color: var(--hover-bg-color);\n",
              "    box-shadow: 0 1px 2px rgba(60, 64, 67, 0.3), 0 1px 3px 1px rgba(60, 64, 67, 0.15);\n",
              "    fill: var(--button-hover-fill-color);\n",
              "  }\n",
              "\n",
              "  .colab-df-quickchart-complete:disabled,\n",
              "  .colab-df-quickchart-complete:disabled:hover {\n",
              "    background-color: var(--disabled-bg-color);\n",
              "    fill: var(--disabled-fill-color);\n",
              "    box-shadow: none;\n",
              "  }\n",
              "\n",
              "  .colab-df-spinner {\n",
              "    border: 2px solid var(--fill-color);\n",
              "    border-color: transparent;\n",
              "    border-bottom-color: var(--fill-color);\n",
              "    animation:\n",
              "      spin 1s steps(1) infinite;\n",
              "  }\n",
              "\n",
              "  @keyframes spin {\n",
              "    0% {\n",
              "      border-color: transparent;\n",
              "      border-bottom-color: var(--fill-color);\n",
              "      border-left-color: var(--fill-color);\n",
              "    }\n",
              "    20% {\n",
              "      border-color: transparent;\n",
              "      border-left-color: var(--fill-color);\n",
              "      border-top-color: var(--fill-color);\n",
              "    }\n",
              "    30% {\n",
              "      border-color: transparent;\n",
              "      border-left-color: var(--fill-color);\n",
              "      border-top-color: var(--fill-color);\n",
              "      border-right-color: var(--fill-color);\n",
              "    }\n",
              "    40% {\n",
              "      border-color: transparent;\n",
              "      border-right-color: var(--fill-color);\n",
              "      border-top-color: var(--fill-color);\n",
              "    }\n",
              "    60% {\n",
              "      border-color: transparent;\n",
              "      border-right-color: var(--fill-color);\n",
              "    }\n",
              "    80% {\n",
              "      border-color: transparent;\n",
              "      border-right-color: var(--fill-color);\n",
              "      border-bottom-color: var(--fill-color);\n",
              "    }\n",
              "    90% {\n",
              "      border-color: transparent;\n",
              "      border-bottom-color: var(--fill-color);\n",
              "    }\n",
              "  }\n",
              "</style>\n",
              "\n",
              "  <script>\n",
              "    async function quickchart(key) {\n",
              "      const quickchartButtonEl =\n",
              "        document.querySelector('#' + key + ' button');\n",
              "      quickchartButtonEl.disabled = true;  // To prevent multiple clicks.\n",
              "      quickchartButtonEl.classList.add('colab-df-spinner');\n",
              "      try {\n",
              "        const charts = await google.colab.kernel.invokeFunction(\n",
              "            'suggestCharts', [key], {});\n",
              "      } catch (error) {\n",
              "        console.error('Error during call to suggestCharts:', error);\n",
              "      }\n",
              "      quickchartButtonEl.classList.remove('colab-df-spinner');\n",
              "      quickchartButtonEl.classList.add('colab-df-quickchart-complete');\n",
              "    }\n",
              "    (() => {\n",
              "      let quickchartButtonEl =\n",
              "        document.querySelector('#df-8be59ae1-5cee-4775-8573-bf437af59f5b button');\n",
              "      quickchartButtonEl.style.display =\n",
              "        google.colab.kernel.accessAllowed ? 'block' : 'none';\n",
              "    })();\n",
              "  </script>\n",
              "</div>\n",
              "\n",
              "    </div>\n",
              "  </div>\n"
            ],
            "application/vnd.google.colaboratory.intrinsic+json": {
              "type": "dataframe",
              "variable_name": "df_albums",
              "summary": "{\n  \"name\": \"df_albums\",\n  \"rows\": 347,\n  \"fields\": [\n    {\n      \"column\": \"AlbumId\",\n      \"properties\": {\n        \"dtype\": \"number\",\n        \"std\": 100,\n        \"min\": 1,\n        \"max\": 347,\n        \"samples\": [\n          323,\n          115,\n          326\n        ],\n        \"num_unique_values\": 347,\n        \"semantic_type\": \"\",\n        \"description\": \"\"\n      }\n    },\n    {\n      \"column\": \"Title\",\n      \"properties\": {\n        \"dtype\": \"string\",\n        \"samples\": [\n          \"Carried to Dust (Bonus Track Version)\",\n          \"Sex Machine\",\n          \"Mendelssohn: A Midsummer Night's Dream\"\n        ],\n        \"num_unique_values\": 347,\n        \"semantic_type\": \"\",\n        \"description\": \"\"\n      }\n    },\n    {\n      \"column\": \"ArtistId\",\n      \"properties\": {\n        \"dtype\": \"number\",\n        \"std\": 77,\n        \"min\": 1,\n        \"max\": 275,\n        \"samples\": [\n          16,\n          10,\n          153\n        ],\n        \"num_unique_values\": 204,\n        \"semantic_type\": \"\",\n        \"description\": \"\"\n      }\n    }\n  ]\n}"
            }
          },
          "metadata": {},
          "execution_count": 42
        }
      ]
    },
    {
      "cell_type": "markdown",
      "metadata": {
        "id": "j5mNXBMn7cgX"
      },
      "source": [
        "### Direct querying"
      ]
    },
    {
      "cell_type": "markdown",
      "metadata": {
        "id": "nRqzQpip-qYE"
      },
      "source": [
        "Moreover, *pandas* offers [`pd.read_sql_query(sql, con)`](https://pandas.pydata.org/pandas-docs/stable/reference/api/pandas.read_sql_query.html) to directly send SQL commands through a given DB connection. SQLAlchemy engine is one of the options for `con`."
      ]
    },
    {
      "cell_type": "code",
      "metadata": {
        "colab": {
          "base_uri": "https://localhost:8080/"
        },
        "id": "d4FUDgQ261-3",
        "outputId": "9e77c1eb-f210-42b3-f88c-b9150c71adf4"
      },
      "source": [
        "import pandas as pd\n",
        "import sqlalchemy\n",
        "\n",
        "# Create the engine\n",
        "engine = sqlalchemy.create_engine('sqlite:///chinook.db', echo=False)\n",
        "\n",
        "# Establish a connection\n",
        "conn = engine.connect()\n",
        "\n",
        "# Define the SQL query\n",
        "sql = text('''SELECT * FROM employees ORDER BY BirthDate''')\n",
        "\n",
        "# Use pd.read_sql_query() with the connection object\n",
        "df_tracks = pd.read_sql_query(sql, con=conn)\n",
        "\n",
        "# Close the connection\n",
        "#conn.close()\n",
        "\n",
        "# Display the first few rows of the DataFrame\n",
        "print(df_tracks.head())"
      ],
      "execution_count": 43,
      "outputs": [
        {
          "output_type": "stream",
          "name": "stdout",
          "text": [
            "   EmployeeId  LastName FirstName                Title  ReportsTo  \\\n",
            "0           4      Park  Margaret  Sales Support Agent        2.0   \n",
            "1           2   Edwards     Nancy        Sales Manager        1.0   \n",
            "2           1     Adams    Andrew      General Manager        NaN   \n",
            "3           5   Johnson     Steve  Sales Support Agent        2.0   \n",
            "4           8  Callahan     Laura             IT Staff        6.0   \n",
            "\n",
            "             BirthDate             HireDate              Address        City  \\\n",
            "0  1947-09-19 00:00:00  2003-05-03 00:00:00     683 10 Street SW     Calgary   \n",
            "1  1958-12-08 00:00:00  2002-05-01 00:00:00         825 8 Ave SW     Calgary   \n",
            "2  1962-02-18 00:00:00  2002-08-14 00:00:00  11120 Jasper Ave NW    Edmonton   \n",
            "3  1965-03-03 00:00:00  2003-10-17 00:00:00         7727B 41 Ave     Calgary   \n",
            "4  1968-01-09 00:00:00  2004-03-04 00:00:00          923 7 ST NW  Lethbridge   \n",
            "\n",
            "  State Country PostalCode              Phone                Fax  \\\n",
            "0    AB  Canada    T2P 5G3  +1 (403) 263-4423  +1 (403) 263-4289   \n",
            "1    AB  Canada    T2P 2T3  +1 (403) 262-3443  +1 (403) 262-3322   \n",
            "2    AB  Canada    T5K 2N1  +1 (780) 428-9482  +1 (780) 428-3457   \n",
            "3    AB  Canada    T3B 1Y7   1 (780) 836-9987   1 (780) 836-9543   \n",
            "4    AB  Canada    T1H 1Y8  +1 (403) 467-3351  +1 (403) 467-8772   \n",
            "\n",
            "                      Email  \n",
            "0  margaret@chinookcorp.com  \n",
            "1     nancy@chinookcorp.com  \n",
            "2    andrew@chinookcorp.com  \n",
            "3     steve@chinookcorp.com  \n",
            "4     laura@chinookcorp.com  \n"
          ]
        }
      ]
    },
    {
      "cell_type": "code",
      "source": [
        "import pandas as pd\n",
        "import sqlalchemy\n",
        "\n",
        "# Create the engine\n",
        "engine = sqlalchemy.create_engine('sqlite:///chinook.db', echo=False)\n",
        "\n",
        "# Establish a connection\n",
        "conn = engine.connect()\n",
        "\n",
        "# Define the SQL query\n",
        "sql = text('''SELECT * FROM albums''')\n",
        "\n",
        "# Use pd.read_sql_query() with the connection object\n",
        "albums = pd.read_sql_query(sql, con=conn)\n",
        "\n",
        "# Close the connection\n",
        "conn.close()\n",
        "\n",
        "# Display the first few rows of the DataFrame\n",
        "print(df_tracks.head())"
      ],
      "metadata": {
        "id": "18dOmTwx-1jt",
        "outputId": "657c08d6-76d5-4c46-db79-8edc7758009b",
        "colab": {
          "base_uri": "https://localhost:8080/"
        }
      },
      "execution_count": 44,
      "outputs": [
        {
          "output_type": "stream",
          "name": "stdout",
          "text": [
            "   EmployeeId  LastName FirstName                Title  ReportsTo  \\\n",
            "0           4      Park  Margaret  Sales Support Agent        2.0   \n",
            "1           2   Edwards     Nancy        Sales Manager        1.0   \n",
            "2           1     Adams    Andrew      General Manager        NaN   \n",
            "3           5   Johnson     Steve  Sales Support Agent        2.0   \n",
            "4           8  Callahan     Laura             IT Staff        6.0   \n",
            "\n",
            "             BirthDate             HireDate              Address        City  \\\n",
            "0  1947-09-19 00:00:00  2003-05-03 00:00:00     683 10 Street SW     Calgary   \n",
            "1  1958-12-08 00:00:00  2002-05-01 00:00:00         825 8 Ave SW     Calgary   \n",
            "2  1962-02-18 00:00:00  2002-08-14 00:00:00  11120 Jasper Ave NW    Edmonton   \n",
            "3  1965-03-03 00:00:00  2003-10-17 00:00:00         7727B 41 Ave     Calgary   \n",
            "4  1968-01-09 00:00:00  2004-03-04 00:00:00          923 7 ST NW  Lethbridge   \n",
            "\n",
            "  State Country PostalCode              Phone                Fax  \\\n",
            "0    AB  Canada    T2P 5G3  +1 (403) 263-4423  +1 (403) 263-4289   \n",
            "1    AB  Canada    T2P 2T3  +1 (403) 262-3443  +1 (403) 262-3322   \n",
            "2    AB  Canada    T5K 2N1  +1 (780) 428-9482  +1 (780) 428-3457   \n",
            "3    AB  Canada    T3B 1Y7   1 (780) 836-9987   1 (780) 836-9543   \n",
            "4    AB  Canada    T1H 1Y8  +1 (403) 467-3351  +1 (403) 467-8772   \n",
            "\n",
            "                      Email  \n",
            "0  margaret@chinookcorp.com  \n",
            "1     nancy@chinookcorp.com  \n",
            "2    andrew@chinookcorp.com  \n",
            "3     steve@chinookcorp.com  \n",
            "4     laura@chinookcorp.com  \n"
          ]
        }
      ]
    },
    {
      "cell_type": "code",
      "source": [
        "import pandas as pd\n",
        "import sqlalchemy\n",
        "\n",
        "# Create the engine\n",
        "engine = sqlalchemy.create_engine('sqlite:///chinook.db', echo=False)\n",
        "\n",
        "# Establish a connection\n",
        "conn = engine.connect()\n",
        "\n",
        "# Define the SQL table\n",
        "table = \"albums\"\n",
        "# Use pd.read_sql_query() with the connection object\n",
        "albums1 = pd.read_sql_table(table, con=conn)\n",
        "\n",
        "# Close the connection\n",
        "conn.close()\n",
        "\n",
        "# Display the first few rows of the DataFrame\n",
        "print(df_tracks.head(2))"
      ],
      "metadata": {
        "id": "t5yQhb3jWFNq",
        "outputId": "ec421287-3e8c-4d2f-dda9-9d1e26c5ac84",
        "colab": {
          "base_uri": "https://localhost:8080/"
        }
      },
      "execution_count": 45,
      "outputs": [
        {
          "output_type": "stream",
          "name": "stdout",
          "text": [
            "   EmployeeId LastName FirstName                Title  ReportsTo  \\\n",
            "0           4     Park  Margaret  Sales Support Agent        2.0   \n",
            "1           2  Edwards     Nancy        Sales Manager        1.0   \n",
            "\n",
            "             BirthDate             HireDate           Address     City State  \\\n",
            "0  1947-09-19 00:00:00  2003-05-03 00:00:00  683 10 Street SW  Calgary    AB   \n",
            "1  1958-12-08 00:00:00  2002-05-01 00:00:00      825 8 Ave SW  Calgary    AB   \n",
            "\n",
            "  Country PostalCode              Phone                Fax  \\\n",
            "0  Canada    T2P 5G3  +1 (403) 263-4423  +1 (403) 263-4289   \n",
            "1  Canada    T2P 2T3  +1 (403) 262-3443  +1 (403) 262-3322   \n",
            "\n",
            "                      Email  \n",
            "0  margaret@chinookcorp.com  \n",
            "1     nancy@chinookcorp.com  \n"
          ]
        }
      ]
    },
    {
      "cell_type": "code",
      "source": [
        "albums1.drop('Title', axis=1).to_sql('albums_new', con=engine,if_exists='replace')"
      ],
      "metadata": {
        "colab": {
          "base_uri": "https://localhost:8080/"
        },
        "id": "EeKsuwmaWUR6",
        "outputId": "823c374a-e8e7-4d03-a777-01df46fc2f86"
      },
      "execution_count": 46,
      "outputs": [
        {
          "output_type": "execute_result",
          "data": {
            "text/plain": [
              "347"
            ]
          },
          "metadata": {},
          "execution_count": 46
        }
      ]
    },
    {
      "cell_type": "code",
      "source": [
        "import pandas as pd\n",
        "import sqlalchemy\n",
        "\n",
        "# Create the engine\n",
        "engine = sqlalchemy.create_engine('sqlite:///chinook.db', echo=False)\n",
        "\n",
        "# Establish a connection\n",
        "conn = engine.connect()\n",
        "\n",
        "# Define the SQL table\n",
        "query=text(\"select * from albums_new\")\n",
        "# Use pd.read_sql_query() with the connection object\n",
        "albums1 = pd.read_sql_query(query, con=conn)\n",
        "# Close the connection\n",
        "#conn.close()\n",
        "\n",
        "# Display the first few rows of the DataFrame\n",
        "print(albums1.head(2))"
      ],
      "metadata": {
        "colab": {
          "base_uri": "https://localhost:8080/"
        },
        "id": "PGsjdL4g7kvI",
        "outputId": "f5f63c28-9b73-4d93-cb81-4b0ada79d42c"
      },
      "execution_count": 47,
      "outputs": [
        {
          "output_type": "stream",
          "name": "stdout",
          "text": [
            "   index  AlbumId  ArtistId\n",
            "0      0        1         1\n",
            "1      1        2         2\n"
          ]
        }
      ]
    },
    {
      "cell_type": "code",
      "source": [
        "albums['agg'] = 1"
      ],
      "metadata": {
        "id": "1kJDl7c__ASw"
      },
      "execution_count": 48,
      "outputs": []
    },
    {
      "cell_type": "code",
      "source": [
        "albums"
      ],
      "metadata": {
        "colab": {
          "base_uri": "https://localhost:8080/",
          "height": 423
        },
        "id": "79ZxqRl87z4I",
        "outputId": "2af7b62a-e731-4178-c2b2-4a59e1000d41"
      },
      "execution_count": 49,
      "outputs": [
        {
          "output_type": "execute_result",
          "data": {
            "text/plain": [
              "     AlbumId                                              Title  ArtistId  agg\n",
              "0          1              For Those About To Rock We Salute You         1    1\n",
              "1          2                                  Balls to the Wall         2    1\n",
              "2          3                                  Restless and Wild         2    1\n",
              "3          4                                  Let There Be Rock         1    1\n",
              "4          5                                           Big Ones         3    1\n",
              "..       ...                                                ...       ...  ...\n",
              "342      343                             Respighi:Pines of Rome       226    1\n",
              "343      344  Schubert: The Late String Quartets & String Qu...       272    1\n",
              "344      345                                Monteverdi: L'Orfeo       273    1\n",
              "345      346                              Mozart: Chamber Music       274    1\n",
              "346      347  Koyaanisqatsi (Soundtrack from the Motion Pict...       275    1\n",
              "\n",
              "[347 rows x 4 columns]"
            ],
            "text/html": [
              "\n",
              "  <div id=\"df-688fc6a1-6d0c-4198-8f73-8610ffb3ff66\" class=\"colab-df-container\">\n",
              "    <div>\n",
              "<style scoped>\n",
              "    .dataframe tbody tr th:only-of-type {\n",
              "        vertical-align: middle;\n",
              "    }\n",
              "\n",
              "    .dataframe tbody tr th {\n",
              "        vertical-align: top;\n",
              "    }\n",
              "\n",
              "    .dataframe thead th {\n",
              "        text-align: right;\n",
              "    }\n",
              "</style>\n",
              "<table border=\"1\" class=\"dataframe\">\n",
              "  <thead>\n",
              "    <tr style=\"text-align: right;\">\n",
              "      <th></th>\n",
              "      <th>AlbumId</th>\n",
              "      <th>Title</th>\n",
              "      <th>ArtistId</th>\n",
              "      <th>agg</th>\n",
              "    </tr>\n",
              "  </thead>\n",
              "  <tbody>\n",
              "    <tr>\n",
              "      <th>0</th>\n",
              "      <td>1</td>\n",
              "      <td>For Those About To Rock We Salute You</td>\n",
              "      <td>1</td>\n",
              "      <td>1</td>\n",
              "    </tr>\n",
              "    <tr>\n",
              "      <th>1</th>\n",
              "      <td>2</td>\n",
              "      <td>Balls to the Wall</td>\n",
              "      <td>2</td>\n",
              "      <td>1</td>\n",
              "    </tr>\n",
              "    <tr>\n",
              "      <th>2</th>\n",
              "      <td>3</td>\n",
              "      <td>Restless and Wild</td>\n",
              "      <td>2</td>\n",
              "      <td>1</td>\n",
              "    </tr>\n",
              "    <tr>\n",
              "      <th>3</th>\n",
              "      <td>4</td>\n",
              "      <td>Let There Be Rock</td>\n",
              "      <td>1</td>\n",
              "      <td>1</td>\n",
              "    </tr>\n",
              "    <tr>\n",
              "      <th>4</th>\n",
              "      <td>5</td>\n",
              "      <td>Big Ones</td>\n",
              "      <td>3</td>\n",
              "      <td>1</td>\n",
              "    </tr>\n",
              "    <tr>\n",
              "      <th>...</th>\n",
              "      <td>...</td>\n",
              "      <td>...</td>\n",
              "      <td>...</td>\n",
              "      <td>...</td>\n",
              "    </tr>\n",
              "    <tr>\n",
              "      <th>342</th>\n",
              "      <td>343</td>\n",
              "      <td>Respighi:Pines of Rome</td>\n",
              "      <td>226</td>\n",
              "      <td>1</td>\n",
              "    </tr>\n",
              "    <tr>\n",
              "      <th>343</th>\n",
              "      <td>344</td>\n",
              "      <td>Schubert: The Late String Quartets &amp; String Qu...</td>\n",
              "      <td>272</td>\n",
              "      <td>1</td>\n",
              "    </tr>\n",
              "    <tr>\n",
              "      <th>344</th>\n",
              "      <td>345</td>\n",
              "      <td>Monteverdi: L'Orfeo</td>\n",
              "      <td>273</td>\n",
              "      <td>1</td>\n",
              "    </tr>\n",
              "    <tr>\n",
              "      <th>345</th>\n",
              "      <td>346</td>\n",
              "      <td>Mozart: Chamber Music</td>\n",
              "      <td>274</td>\n",
              "      <td>1</td>\n",
              "    </tr>\n",
              "    <tr>\n",
              "      <th>346</th>\n",
              "      <td>347</td>\n",
              "      <td>Koyaanisqatsi (Soundtrack from the Motion Pict...</td>\n",
              "      <td>275</td>\n",
              "      <td>1</td>\n",
              "    </tr>\n",
              "  </tbody>\n",
              "</table>\n",
              "<p>347 rows × 4 columns</p>\n",
              "</div>\n",
              "    <div class=\"colab-df-buttons\">\n",
              "\n",
              "  <div class=\"colab-df-container\">\n",
              "    <button class=\"colab-df-convert\" onclick=\"convertToInteractive('df-688fc6a1-6d0c-4198-8f73-8610ffb3ff66')\"\n",
              "            title=\"Convert this dataframe to an interactive table.\"\n",
              "            style=\"display:none;\">\n",
              "\n",
              "  <svg xmlns=\"http://www.w3.org/2000/svg\" height=\"24px\" viewBox=\"0 -960 960 960\">\n",
              "    <path d=\"M120-120v-720h720v720H120Zm60-500h600v-160H180v160Zm220 220h160v-160H400v160Zm0 220h160v-160H400v160ZM180-400h160v-160H180v160Zm440 0h160v-160H620v160ZM180-180h160v-160H180v160Zm440 0h160v-160H620v160Z\"/>\n",
              "  </svg>\n",
              "    </button>\n",
              "\n",
              "  <style>\n",
              "    .colab-df-container {\n",
              "      display:flex;\n",
              "      gap: 12px;\n",
              "    }\n",
              "\n",
              "    .colab-df-convert {\n",
              "      background-color: #E8F0FE;\n",
              "      border: none;\n",
              "      border-radius: 50%;\n",
              "      cursor: pointer;\n",
              "      display: none;\n",
              "      fill: #1967D2;\n",
              "      height: 32px;\n",
              "      padding: 0 0 0 0;\n",
              "      width: 32px;\n",
              "    }\n",
              "\n",
              "    .colab-df-convert:hover {\n",
              "      background-color: #E2EBFA;\n",
              "      box-shadow: 0px 1px 2px rgba(60, 64, 67, 0.3), 0px 1px 3px 1px rgba(60, 64, 67, 0.15);\n",
              "      fill: #174EA6;\n",
              "    }\n",
              "\n",
              "    .colab-df-buttons div {\n",
              "      margin-bottom: 4px;\n",
              "    }\n",
              "\n",
              "    [theme=dark] .colab-df-convert {\n",
              "      background-color: #3B4455;\n",
              "      fill: #D2E3FC;\n",
              "    }\n",
              "\n",
              "    [theme=dark] .colab-df-convert:hover {\n",
              "      background-color: #434B5C;\n",
              "      box-shadow: 0px 1px 3px 1px rgba(0, 0, 0, 0.15);\n",
              "      filter: drop-shadow(0px 1px 2px rgba(0, 0, 0, 0.3));\n",
              "      fill: #FFFFFF;\n",
              "    }\n",
              "  </style>\n",
              "\n",
              "    <script>\n",
              "      const buttonEl =\n",
              "        document.querySelector('#df-688fc6a1-6d0c-4198-8f73-8610ffb3ff66 button.colab-df-convert');\n",
              "      buttonEl.style.display =\n",
              "        google.colab.kernel.accessAllowed ? 'block' : 'none';\n",
              "\n",
              "      async function convertToInteractive(key) {\n",
              "        const element = document.querySelector('#df-688fc6a1-6d0c-4198-8f73-8610ffb3ff66');\n",
              "        const dataTable =\n",
              "          await google.colab.kernel.invokeFunction('convertToInteractive',\n",
              "                                                    [key], {});\n",
              "        if (!dataTable) return;\n",
              "\n",
              "        const docLinkHtml = 'Like what you see? Visit the ' +\n",
              "          '<a target=\"_blank\" href=https://colab.research.google.com/notebooks/data_table.ipynb>data table notebook</a>'\n",
              "          + ' to learn more about interactive tables.';\n",
              "        element.innerHTML = '';\n",
              "        dataTable['output_type'] = 'display_data';\n",
              "        await google.colab.output.renderOutput(dataTable, element);\n",
              "        const docLink = document.createElement('div');\n",
              "        docLink.innerHTML = docLinkHtml;\n",
              "        element.appendChild(docLink);\n",
              "      }\n",
              "    </script>\n",
              "  </div>\n",
              "\n",
              "\n",
              "<div id=\"df-51e95a7f-ef2a-4729-ac4d-0f7bf7ab3001\">\n",
              "  <button class=\"colab-df-quickchart\" onclick=\"quickchart('df-51e95a7f-ef2a-4729-ac4d-0f7bf7ab3001')\"\n",
              "            title=\"Suggest charts\"\n",
              "            style=\"display:none;\">\n",
              "\n",
              "<svg xmlns=\"http://www.w3.org/2000/svg\" height=\"24px\"viewBox=\"0 0 24 24\"\n",
              "     width=\"24px\">\n",
              "    <g>\n",
              "        <path d=\"M19 3H5c-1.1 0-2 .9-2 2v14c0 1.1.9 2 2 2h14c1.1 0 2-.9 2-2V5c0-1.1-.9-2-2-2zM9 17H7v-7h2v7zm4 0h-2V7h2v10zm4 0h-2v-4h2v4z\"/>\n",
              "    </g>\n",
              "</svg>\n",
              "  </button>\n",
              "\n",
              "<style>\n",
              "  .colab-df-quickchart {\n",
              "      --bg-color: #E8F0FE;\n",
              "      --fill-color: #1967D2;\n",
              "      --hover-bg-color: #E2EBFA;\n",
              "      --hover-fill-color: #174EA6;\n",
              "      --disabled-fill-color: #AAA;\n",
              "      --disabled-bg-color: #DDD;\n",
              "  }\n",
              "\n",
              "  [theme=dark] .colab-df-quickchart {\n",
              "      --bg-color: #3B4455;\n",
              "      --fill-color: #D2E3FC;\n",
              "      --hover-bg-color: #434B5C;\n",
              "      --hover-fill-color: #FFFFFF;\n",
              "      --disabled-bg-color: #3B4455;\n",
              "      --disabled-fill-color: #666;\n",
              "  }\n",
              "\n",
              "  .colab-df-quickchart {\n",
              "    background-color: var(--bg-color);\n",
              "    border: none;\n",
              "    border-radius: 50%;\n",
              "    cursor: pointer;\n",
              "    display: none;\n",
              "    fill: var(--fill-color);\n",
              "    height: 32px;\n",
              "    padding: 0;\n",
              "    width: 32px;\n",
              "  }\n",
              "\n",
              "  .colab-df-quickchart:hover {\n",
              "    background-color: var(--hover-bg-color);\n",
              "    box-shadow: 0 1px 2px rgba(60, 64, 67, 0.3), 0 1px 3px 1px rgba(60, 64, 67, 0.15);\n",
              "    fill: var(--button-hover-fill-color);\n",
              "  }\n",
              "\n",
              "  .colab-df-quickchart-complete:disabled,\n",
              "  .colab-df-quickchart-complete:disabled:hover {\n",
              "    background-color: var(--disabled-bg-color);\n",
              "    fill: var(--disabled-fill-color);\n",
              "    box-shadow: none;\n",
              "  }\n",
              "\n",
              "  .colab-df-spinner {\n",
              "    border: 2px solid var(--fill-color);\n",
              "    border-color: transparent;\n",
              "    border-bottom-color: var(--fill-color);\n",
              "    animation:\n",
              "      spin 1s steps(1) infinite;\n",
              "  }\n",
              "\n",
              "  @keyframes spin {\n",
              "    0% {\n",
              "      border-color: transparent;\n",
              "      border-bottom-color: var(--fill-color);\n",
              "      border-left-color: var(--fill-color);\n",
              "    }\n",
              "    20% {\n",
              "      border-color: transparent;\n",
              "      border-left-color: var(--fill-color);\n",
              "      border-top-color: var(--fill-color);\n",
              "    }\n",
              "    30% {\n",
              "      border-color: transparent;\n",
              "      border-left-color: var(--fill-color);\n",
              "      border-top-color: var(--fill-color);\n",
              "      border-right-color: var(--fill-color);\n",
              "    }\n",
              "    40% {\n",
              "      border-color: transparent;\n",
              "      border-right-color: var(--fill-color);\n",
              "      border-top-color: var(--fill-color);\n",
              "    }\n",
              "    60% {\n",
              "      border-color: transparent;\n",
              "      border-right-color: var(--fill-color);\n",
              "    }\n",
              "    80% {\n",
              "      border-color: transparent;\n",
              "      border-right-color: var(--fill-color);\n",
              "      border-bottom-color: var(--fill-color);\n",
              "    }\n",
              "    90% {\n",
              "      border-color: transparent;\n",
              "      border-bottom-color: var(--fill-color);\n",
              "    }\n",
              "  }\n",
              "</style>\n",
              "\n",
              "  <script>\n",
              "    async function quickchart(key) {\n",
              "      const quickchartButtonEl =\n",
              "        document.querySelector('#' + key + ' button');\n",
              "      quickchartButtonEl.disabled = true;  // To prevent multiple clicks.\n",
              "      quickchartButtonEl.classList.add('colab-df-spinner');\n",
              "      try {\n",
              "        const charts = await google.colab.kernel.invokeFunction(\n",
              "            'suggestCharts', [key], {});\n",
              "      } catch (error) {\n",
              "        console.error('Error during call to suggestCharts:', error);\n",
              "      }\n",
              "      quickchartButtonEl.classList.remove('colab-df-spinner');\n",
              "      quickchartButtonEl.classList.add('colab-df-quickchart-complete');\n",
              "    }\n",
              "    (() => {\n",
              "      let quickchartButtonEl =\n",
              "        document.querySelector('#df-51e95a7f-ef2a-4729-ac4d-0f7bf7ab3001 button');\n",
              "      quickchartButtonEl.style.display =\n",
              "        google.colab.kernel.accessAllowed ? 'block' : 'none';\n",
              "    })();\n",
              "  </script>\n",
              "</div>\n",
              "\n",
              "  <div id=\"id_bb70e628-1ecb-4c92-9f71-832f96827129\">\n",
              "    <style>\n",
              "      .colab-df-generate {\n",
              "        background-color: #E8F0FE;\n",
              "        border: none;\n",
              "        border-radius: 50%;\n",
              "        cursor: pointer;\n",
              "        display: none;\n",
              "        fill: #1967D2;\n",
              "        height: 32px;\n",
              "        padding: 0 0 0 0;\n",
              "        width: 32px;\n",
              "      }\n",
              "\n",
              "      .colab-df-generate:hover {\n",
              "        background-color: #E2EBFA;\n",
              "        box-shadow: 0px 1px 2px rgba(60, 64, 67, 0.3), 0px 1px 3px 1px rgba(60, 64, 67, 0.15);\n",
              "        fill: #174EA6;\n",
              "      }\n",
              "\n",
              "      [theme=dark] .colab-df-generate {\n",
              "        background-color: #3B4455;\n",
              "        fill: #D2E3FC;\n",
              "      }\n",
              "\n",
              "      [theme=dark] .colab-df-generate:hover {\n",
              "        background-color: #434B5C;\n",
              "        box-shadow: 0px 1px 3px 1px rgba(0, 0, 0, 0.15);\n",
              "        filter: drop-shadow(0px 1px 2px rgba(0, 0, 0, 0.3));\n",
              "        fill: #FFFFFF;\n",
              "      }\n",
              "    </style>\n",
              "    <button class=\"colab-df-generate\" onclick=\"generateWithVariable('albums')\"\n",
              "            title=\"Generate code using this dataframe.\"\n",
              "            style=\"display:none;\">\n",
              "\n",
              "  <svg xmlns=\"http://www.w3.org/2000/svg\" height=\"24px\"viewBox=\"0 0 24 24\"\n",
              "       width=\"24px\">\n",
              "    <path d=\"M7,19H8.4L18.45,9,17,7.55,7,17.6ZM5,21V16.75L18.45,3.32a2,2,0,0,1,2.83,0l1.4,1.43a1.91,1.91,0,0,1,.58,1.4,1.91,1.91,0,0,1-.58,1.4L9.25,21ZM18.45,9,17,7.55Zm-12,3A5.31,5.31,0,0,0,4.9,8.1,5.31,5.31,0,0,0,1,6.5,5.31,5.31,0,0,0,4.9,4.9,5.31,5.31,0,0,0,6.5,1,5.31,5.31,0,0,0,8.1,4.9,5.31,5.31,0,0,0,12,6.5,5.46,5.46,0,0,0,6.5,12Z\"/>\n",
              "  </svg>\n",
              "    </button>\n",
              "    <script>\n",
              "      (() => {\n",
              "      const buttonEl =\n",
              "        document.querySelector('#id_bb70e628-1ecb-4c92-9f71-832f96827129 button.colab-df-generate');\n",
              "      buttonEl.style.display =\n",
              "        google.colab.kernel.accessAllowed ? 'block' : 'none';\n",
              "\n",
              "      buttonEl.onclick = () => {\n",
              "        google.colab.notebook.generateWithVariable('albums');\n",
              "      }\n",
              "      })();\n",
              "    </script>\n",
              "  </div>\n",
              "\n",
              "    </div>\n",
              "  </div>\n"
            ],
            "application/vnd.google.colaboratory.intrinsic+json": {
              "type": "dataframe",
              "variable_name": "albums",
              "summary": "{\n  \"name\": \"albums\",\n  \"rows\": 347,\n  \"fields\": [\n    {\n      \"column\": \"AlbumId\",\n      \"properties\": {\n        \"dtype\": \"number\",\n        \"std\": 100,\n        \"min\": 1,\n        \"max\": 347,\n        \"samples\": [\n          323,\n          115,\n          326\n        ],\n        \"num_unique_values\": 347,\n        \"semantic_type\": \"\",\n        \"description\": \"\"\n      }\n    },\n    {\n      \"column\": \"Title\",\n      \"properties\": {\n        \"dtype\": \"string\",\n        \"samples\": [\n          \"Carried to Dust (Bonus Track Version)\",\n          \"Sex Machine\",\n          \"Mendelssohn: A Midsummer Night's Dream\"\n        ],\n        \"num_unique_values\": 347,\n        \"semantic_type\": \"\",\n        \"description\": \"\"\n      }\n    },\n    {\n      \"column\": \"ArtistId\",\n      \"properties\": {\n        \"dtype\": \"number\",\n        \"std\": 77,\n        \"min\": 1,\n        \"max\": 275,\n        \"samples\": [\n          16,\n          10,\n          153\n        ],\n        \"num_unique_values\": 204,\n        \"semantic_type\": \"\",\n        \"description\": \"\"\n      }\n    },\n    {\n      \"column\": \"agg\",\n      \"properties\": {\n        \"dtype\": \"number\",\n        \"std\": 0,\n        \"min\": 1,\n        \"max\": 1,\n        \"samples\": [\n          1\n        ],\n        \"num_unique_values\": 1,\n        \"semantic_type\": \"\",\n        \"description\": \"\"\n      }\n    }\n  ]\n}"
            }
          },
          "metadata": {},
          "execution_count": 49
        }
      ]
    },
    {
      "cell_type": "markdown",
      "metadata": {
        "id": "SZuiqWwN5FsJ"
      },
      "source": [
        "> **Your turn:** Exrecise01\n",
        "* Part 1 - create the tables `tracks`, `albums` and `artists` both as SQLAlchemy Tables and as pandas DataFrames.\n",
        "* Part 2 - Answer the following questions in two ways - using SQLAlchemy and using pandas.\n",
        ">> 1. What is the size of the table `tracks`?\n",
        ">> 2. Which artist has the highest number of tracks?\n",
        "\n",
        "> Don't hesitate to look for the answers online..."
      ]
    },
    {
      "cell_type": "markdown",
      "metadata": {
        "id": "t_rQftg2ZxrR"
      },
      "source": [
        "Based on [`count()` documentation](https://docs.sqlalchemy.org/en/13/core/functions.html#sqlalchemy.sql.functions.count)"
      ]
    },
    {
      "cell_type": "markdown",
      "metadata": {
        "id": "W9B1ysgJHnU4"
      },
      "source": [
        "# Create your own DB"
      ]
    },
    {
      "cell_type": "markdown",
      "metadata": {
        "id": "X_FpE5IpVgqr"
      },
      "source": [
        "## Table creation"
      ]
    },
    {
      "cell_type": "markdown",
      "metadata": {
        "id": "xvBe6FFkXpJo"
      },
      "source": [
        "For this tutorial we will use an in-memory-only SQLite database. This is an easy way to test things without needing to have an actual database defined anywhere."
      ]
    },
    {
      "cell_type": "code",
      "metadata": {
        "id": "dm7Z_x6D_qDv"
      },
      "source": [
        "engine = create_engine('sqlite:///:memory:', echo=False)"
      ],
      "execution_count": 50,
      "outputs": []
    },
    {
      "cell_type": "markdown",
      "metadata": {
        "id": "G_H88OGkX4cV"
      },
      "source": [
        "We have to define a metadata object."
      ]
    },
    {
      "cell_type": "code",
      "metadata": {
        "id": "ZjZewlycUoRm"
      },
      "source": [
        "metadata = MetaData()"
      ],
      "execution_count": 51,
      "outputs": []
    },
    {
      "cell_type": "markdown",
      "metadata": {
        "id": "kI9wWs_BYGvG"
      },
      "source": [
        "Next we define the schemas of the tables."
      ]
    },
    {
      "cell_type": "markdown",
      "metadata": {
        "id": "3senhx-6Z8YK"
      },
      "source": []
    },
    {
      "cell_type": "code",
      "metadata": {
        "id": "P9sEIULZZ8w4"
      },
      "source": [
        "users = Table('users', metadata,\n",
        "    Column('id', Integer),\n",
        "    Column('name', String),\n",
        "    Column('fullname', String),\n",
        ")"
      ],
      "execution_count": 52,
      "outputs": []
    },
    {
      "cell_type": "code",
      "metadata": {
        "id": "9LSNQTosazr1"
      },
      "source": [
        "addresses = Table('addresses', metadata,\n",
        "    Column('id', Integer),\n",
        "    Column('user_id', Integer),\n",
        "    Column('email_address', String)\n",
        ")"
      ],
      "execution_count": 53,
      "outputs": []
    },
    {
      "cell_type": "markdown",
      "metadata": {
        "id": "Sod8jayga1do"
      },
      "source": [
        "> **Note:** The metadata object makes sure there are no ambiguities in the database. Try to create another table with the same name and read the exception."
      ]
    },
    {
      "cell_type": "markdown",
      "metadata": {
        "id": "FhrwLu63YKgb"
      },
      "source": [
        "Finally, we use the metadata object to create all the tables."
      ]
    },
    {
      "cell_type": "code",
      "metadata": {
        "id": "wLkgR4V2R_At"
      },
      "source": [
        "metadata.create_all(engine)"
      ],
      "execution_count": 54,
      "outputs": []
    },
    {
      "cell_type": "markdown",
      "metadata": {
        "id": "jGQwSbDYVpsO"
      },
      "source": [
        "## Insert data"
      ]
    },
    {
      "cell_type": "markdown",
      "metadata": {
        "id": "sRr4byF3YTtJ"
      },
      "source": [
        "All operations are sent to the database through the connection object."
      ]
    },
    {
      "cell_type": "code",
      "metadata": {
        "id": "c_hGJLRPC-SK"
      },
      "source": [
        "conn = engine.connect()"
      ],
      "execution_count": 55,
      "outputs": []
    },
    {
      "cell_type": "markdown",
      "metadata": {
        "id": "bj1mO6DyYafU"
      },
      "source": [
        "The [`insert()`](https://docs.sqlalchemy.org/en/13/core/dml.html#sqlalchemy.sql.expression.insert) method is a wrapper for SQL's INSERT command."
      ]
    },
    {
      "cell_type": "code",
      "metadata": {
        "id": "V8Iq8YrlAMTe"
      },
      "source": [
        "ins = users.insert().values(id=1234, name='jack', fullname='Jack Jones')"
      ],
      "execution_count": 56,
      "outputs": []
    },
    {
      "cell_type": "code",
      "metadata": {
        "colab": {
          "base_uri": "https://localhost:8080/",
          "height": 36
        },
        "id": "PvPvWc0cAM0x",
        "outputId": "26bddc98-4096-44a9-cc2d-c09ed13c5a8e"
      },
      "source": [
        "str(ins)"
      ],
      "execution_count": 57,
      "outputs": [
        {
          "output_type": "execute_result",
          "data": {
            "text/plain": [
              "'INSERT INTO users (id, name, fullname) VALUES (:id, :name, :fullname)'"
            ],
            "application/vnd.google.colaboratory.intrinsic+json": {
              "type": "string"
            }
          },
          "metadata": {},
          "execution_count": 57
        }
      ]
    },
    {
      "cell_type": "code",
      "metadata": {
        "id": "e0rdRePDC_vi"
      },
      "source": [
        "result = conn.execute(ins)"
      ],
      "execution_count": 58,
      "outputs": []
    },
    {
      "cell_type": "markdown",
      "metadata": {
        "id": "ASRZy6hzV7YA"
      },
      "source": [
        "> **Note:** This `ResultProxy` object does not contain any result."
      ]
    },
    {
      "cell_type": "markdown",
      "metadata": {
        "id": "kloOnq-RaNXc"
      },
      "source": [
        "### Testing"
      ]
    },
    {
      "cell_type": "code",
      "metadata": {
        "colab": {
          "base_uri": "https://localhost:8080/"
        },
        "id": "Hao13MQTaPat",
        "outputId": "3450fb2d-b347-44a2-db2f-d88c79413a22"
      },
      "source": [
        "conn.execute(select(users)).fetchall()"
      ],
      "execution_count": 59,
      "outputs": [
        {
          "output_type": "execute_result",
          "data": {
            "text/plain": [
              "[(1234, 'jack', 'Jack Jones')]"
            ]
          },
          "metadata": {},
          "execution_count": 59
        }
      ]
    },
    {
      "cell_type": "markdown",
      "metadata": {
        "id": "j7tYW0FSWX0_"
      },
      "source": [
        "# Example"
      ]
    },
    {
      "cell_type": "markdown",
      "metadata": {
        "id": "yQVUJVPPYEoM"
      },
      "source": [
        "In this example we do the following:\n",
        "1. We insert the data of the MovieLens files into two database tables.\n",
        "2. We use SQLAlchemy to find the best movie (having at least 30 viewers)."
      ]
    },
    {
      "cell_type": "markdown",
      "metadata": {
        "id": "XQZ-jkVOczWs"
      },
      "source": [
        "## Inspect the data"
      ]
    },
    {
      "cell_type": "code",
      "metadata": {
        "id": "BuGQgqXRWl4x"
      },
      "source": [
        "import sys\n",
        "if 'google.colab' in sys.modules:\n",
        "    from google.colab import files\n",
        "    uploaded = files.upload()"
      ],
      "execution_count": null,
      "outputs": []
    },
    {
      "cell_type": "code",
      "metadata": {
        "colab": {
          "base_uri": "https://localhost:8080/",
          "height": 206
        },
        "id": "QyOrq1J1Yfmh",
        "outputId": "bee99354-a39a-4af6-e316-ea0bbe5be7dd"
      },
      "source": [
        "df_movies = pd.read_csv('movies.csv')\n",
        "df_movies.head()"
      ],
      "execution_count": 60,
      "outputs": [
        {
          "output_type": "execute_result",
          "data": {
            "text/plain": [
              "   movieID                               title  \\\n",
              "0        1                    Toy Story (1995)   \n",
              "1        2                      Jumanji (1995)   \n",
              "2        3             Grumpier Old Men (1995)   \n",
              "3        4            Waiting to Exhale (1995)   \n",
              "4        5  Father of the Bride Part II (1995)   \n",
              "\n",
              "                                        genres  \n",
              "0  Adventure|Animation|Children|Comedy|Fantasy  \n",
              "1                   Adventure|Children|Fantasy  \n",
              "2                               Comedy|Romance  \n",
              "3                         Comedy|Drama|Romance  \n",
              "4                                       Comedy  "
            ],
            "text/html": [
              "\n",
              "  <div id=\"df-0094f83f-5b01-4a1f-90dc-21c9993dcfa6\" class=\"colab-df-container\">\n",
              "    <div>\n",
              "<style scoped>\n",
              "    .dataframe tbody tr th:only-of-type {\n",
              "        vertical-align: middle;\n",
              "    }\n",
              "\n",
              "    .dataframe tbody tr th {\n",
              "        vertical-align: top;\n",
              "    }\n",
              "\n",
              "    .dataframe thead th {\n",
              "        text-align: right;\n",
              "    }\n",
              "</style>\n",
              "<table border=\"1\" class=\"dataframe\">\n",
              "  <thead>\n",
              "    <tr style=\"text-align: right;\">\n",
              "      <th></th>\n",
              "      <th>movieID</th>\n",
              "      <th>title</th>\n",
              "      <th>genres</th>\n",
              "    </tr>\n",
              "  </thead>\n",
              "  <tbody>\n",
              "    <tr>\n",
              "      <th>0</th>\n",
              "      <td>1</td>\n",
              "      <td>Toy Story (1995)</td>\n",
              "      <td>Adventure|Animation|Children|Comedy|Fantasy</td>\n",
              "    </tr>\n",
              "    <tr>\n",
              "      <th>1</th>\n",
              "      <td>2</td>\n",
              "      <td>Jumanji (1995)</td>\n",
              "      <td>Adventure|Children|Fantasy</td>\n",
              "    </tr>\n",
              "    <tr>\n",
              "      <th>2</th>\n",
              "      <td>3</td>\n",
              "      <td>Grumpier Old Men (1995)</td>\n",
              "      <td>Comedy|Romance</td>\n",
              "    </tr>\n",
              "    <tr>\n",
              "      <th>3</th>\n",
              "      <td>4</td>\n",
              "      <td>Waiting to Exhale (1995)</td>\n",
              "      <td>Comedy|Drama|Romance</td>\n",
              "    </tr>\n",
              "    <tr>\n",
              "      <th>4</th>\n",
              "      <td>5</td>\n",
              "      <td>Father of the Bride Part II (1995)</td>\n",
              "      <td>Comedy</td>\n",
              "    </tr>\n",
              "  </tbody>\n",
              "</table>\n",
              "</div>\n",
              "    <div class=\"colab-df-buttons\">\n",
              "\n",
              "  <div class=\"colab-df-container\">\n",
              "    <button class=\"colab-df-convert\" onclick=\"convertToInteractive('df-0094f83f-5b01-4a1f-90dc-21c9993dcfa6')\"\n",
              "            title=\"Convert this dataframe to an interactive table.\"\n",
              "            style=\"display:none;\">\n",
              "\n",
              "  <svg xmlns=\"http://www.w3.org/2000/svg\" height=\"24px\" viewBox=\"0 -960 960 960\">\n",
              "    <path d=\"M120-120v-720h720v720H120Zm60-500h600v-160H180v160Zm220 220h160v-160H400v160Zm0 220h160v-160H400v160ZM180-400h160v-160H180v160Zm440 0h160v-160H620v160ZM180-180h160v-160H180v160Zm440 0h160v-160H620v160Z\"/>\n",
              "  </svg>\n",
              "    </button>\n",
              "\n",
              "  <style>\n",
              "    .colab-df-container {\n",
              "      display:flex;\n",
              "      gap: 12px;\n",
              "    }\n",
              "\n",
              "    .colab-df-convert {\n",
              "      background-color: #E8F0FE;\n",
              "      border: none;\n",
              "      border-radius: 50%;\n",
              "      cursor: pointer;\n",
              "      display: none;\n",
              "      fill: #1967D2;\n",
              "      height: 32px;\n",
              "      padding: 0 0 0 0;\n",
              "      width: 32px;\n",
              "    }\n",
              "\n",
              "    .colab-df-convert:hover {\n",
              "      background-color: #E2EBFA;\n",
              "      box-shadow: 0px 1px 2px rgba(60, 64, 67, 0.3), 0px 1px 3px 1px rgba(60, 64, 67, 0.15);\n",
              "      fill: #174EA6;\n",
              "    }\n",
              "\n",
              "    .colab-df-buttons div {\n",
              "      margin-bottom: 4px;\n",
              "    }\n",
              "\n",
              "    [theme=dark] .colab-df-convert {\n",
              "      background-color: #3B4455;\n",
              "      fill: #D2E3FC;\n",
              "    }\n",
              "\n",
              "    [theme=dark] .colab-df-convert:hover {\n",
              "      background-color: #434B5C;\n",
              "      box-shadow: 0px 1px 3px 1px rgba(0, 0, 0, 0.15);\n",
              "      filter: drop-shadow(0px 1px 2px rgba(0, 0, 0, 0.3));\n",
              "      fill: #FFFFFF;\n",
              "    }\n",
              "  </style>\n",
              "\n",
              "    <script>\n",
              "      const buttonEl =\n",
              "        document.querySelector('#df-0094f83f-5b01-4a1f-90dc-21c9993dcfa6 button.colab-df-convert');\n",
              "      buttonEl.style.display =\n",
              "        google.colab.kernel.accessAllowed ? 'block' : 'none';\n",
              "\n",
              "      async function convertToInteractive(key) {\n",
              "        const element = document.querySelector('#df-0094f83f-5b01-4a1f-90dc-21c9993dcfa6');\n",
              "        const dataTable =\n",
              "          await google.colab.kernel.invokeFunction('convertToInteractive',\n",
              "                                                    [key], {});\n",
              "        if (!dataTable) return;\n",
              "\n",
              "        const docLinkHtml = 'Like what you see? Visit the ' +\n",
              "          '<a target=\"_blank\" href=https://colab.research.google.com/notebooks/data_table.ipynb>data table notebook</a>'\n",
              "          + ' to learn more about interactive tables.';\n",
              "        element.innerHTML = '';\n",
              "        dataTable['output_type'] = 'display_data';\n",
              "        await google.colab.output.renderOutput(dataTable, element);\n",
              "        const docLink = document.createElement('div');\n",
              "        docLink.innerHTML = docLinkHtml;\n",
              "        element.appendChild(docLink);\n",
              "      }\n",
              "    </script>\n",
              "  </div>\n",
              "\n",
              "\n",
              "<div id=\"df-3307367c-286f-4626-9b0b-792a03e573a2\">\n",
              "  <button class=\"colab-df-quickchart\" onclick=\"quickchart('df-3307367c-286f-4626-9b0b-792a03e573a2')\"\n",
              "            title=\"Suggest charts\"\n",
              "            style=\"display:none;\">\n",
              "\n",
              "<svg xmlns=\"http://www.w3.org/2000/svg\" height=\"24px\"viewBox=\"0 0 24 24\"\n",
              "     width=\"24px\">\n",
              "    <g>\n",
              "        <path d=\"M19 3H5c-1.1 0-2 .9-2 2v14c0 1.1.9 2 2 2h14c1.1 0 2-.9 2-2V5c0-1.1-.9-2-2-2zM9 17H7v-7h2v7zm4 0h-2V7h2v10zm4 0h-2v-4h2v4z\"/>\n",
              "    </g>\n",
              "</svg>\n",
              "  </button>\n",
              "\n",
              "<style>\n",
              "  .colab-df-quickchart {\n",
              "      --bg-color: #E8F0FE;\n",
              "      --fill-color: #1967D2;\n",
              "      --hover-bg-color: #E2EBFA;\n",
              "      --hover-fill-color: #174EA6;\n",
              "      --disabled-fill-color: #AAA;\n",
              "      --disabled-bg-color: #DDD;\n",
              "  }\n",
              "\n",
              "  [theme=dark] .colab-df-quickchart {\n",
              "      --bg-color: #3B4455;\n",
              "      --fill-color: #D2E3FC;\n",
              "      --hover-bg-color: #434B5C;\n",
              "      --hover-fill-color: #FFFFFF;\n",
              "      --disabled-bg-color: #3B4455;\n",
              "      --disabled-fill-color: #666;\n",
              "  }\n",
              "\n",
              "  .colab-df-quickchart {\n",
              "    background-color: var(--bg-color);\n",
              "    border: none;\n",
              "    border-radius: 50%;\n",
              "    cursor: pointer;\n",
              "    display: none;\n",
              "    fill: var(--fill-color);\n",
              "    height: 32px;\n",
              "    padding: 0;\n",
              "    width: 32px;\n",
              "  }\n",
              "\n",
              "  .colab-df-quickchart:hover {\n",
              "    background-color: var(--hover-bg-color);\n",
              "    box-shadow: 0 1px 2px rgba(60, 64, 67, 0.3), 0 1px 3px 1px rgba(60, 64, 67, 0.15);\n",
              "    fill: var(--button-hover-fill-color);\n",
              "  }\n",
              "\n",
              "  .colab-df-quickchart-complete:disabled,\n",
              "  .colab-df-quickchart-complete:disabled:hover {\n",
              "    background-color: var(--disabled-bg-color);\n",
              "    fill: var(--disabled-fill-color);\n",
              "    box-shadow: none;\n",
              "  }\n",
              "\n",
              "  .colab-df-spinner {\n",
              "    border: 2px solid var(--fill-color);\n",
              "    border-color: transparent;\n",
              "    border-bottom-color: var(--fill-color);\n",
              "    animation:\n",
              "      spin 1s steps(1) infinite;\n",
              "  }\n",
              "\n",
              "  @keyframes spin {\n",
              "    0% {\n",
              "      border-color: transparent;\n",
              "      border-bottom-color: var(--fill-color);\n",
              "      border-left-color: var(--fill-color);\n",
              "    }\n",
              "    20% {\n",
              "      border-color: transparent;\n",
              "      border-left-color: var(--fill-color);\n",
              "      border-top-color: var(--fill-color);\n",
              "    }\n",
              "    30% {\n",
              "      border-color: transparent;\n",
              "      border-left-color: var(--fill-color);\n",
              "      border-top-color: var(--fill-color);\n",
              "      border-right-color: var(--fill-color);\n",
              "    }\n",
              "    40% {\n",
              "      border-color: transparent;\n",
              "      border-right-color: var(--fill-color);\n",
              "      border-top-color: var(--fill-color);\n",
              "    }\n",
              "    60% {\n",
              "      border-color: transparent;\n",
              "      border-right-color: var(--fill-color);\n",
              "    }\n",
              "    80% {\n",
              "      border-color: transparent;\n",
              "      border-right-color: var(--fill-color);\n",
              "      border-bottom-color: var(--fill-color);\n",
              "    }\n",
              "    90% {\n",
              "      border-color: transparent;\n",
              "      border-bottom-color: var(--fill-color);\n",
              "    }\n",
              "  }\n",
              "</style>\n",
              "\n",
              "  <script>\n",
              "    async function quickchart(key) {\n",
              "      const quickchartButtonEl =\n",
              "        document.querySelector('#' + key + ' button');\n",
              "      quickchartButtonEl.disabled = true;  // To prevent multiple clicks.\n",
              "      quickchartButtonEl.classList.add('colab-df-spinner');\n",
              "      try {\n",
              "        const charts = await google.colab.kernel.invokeFunction(\n",
              "            'suggestCharts', [key], {});\n",
              "      } catch (error) {\n",
              "        console.error('Error during call to suggestCharts:', error);\n",
              "      }\n",
              "      quickchartButtonEl.classList.remove('colab-df-spinner');\n",
              "      quickchartButtonEl.classList.add('colab-df-quickchart-complete');\n",
              "    }\n",
              "    (() => {\n",
              "      let quickchartButtonEl =\n",
              "        document.querySelector('#df-3307367c-286f-4626-9b0b-792a03e573a2 button');\n",
              "      quickchartButtonEl.style.display =\n",
              "        google.colab.kernel.accessAllowed ? 'block' : 'none';\n",
              "    })();\n",
              "  </script>\n",
              "</div>\n",
              "\n",
              "    </div>\n",
              "  </div>\n"
            ],
            "application/vnd.google.colaboratory.intrinsic+json": {
              "type": "dataframe",
              "variable_name": "df_movies",
              "summary": "{\n  \"name\": \"df_movies\",\n  \"rows\": 9125,\n  \"fields\": [\n    {\n      \"column\": \"movieID\",\n      \"properties\": {\n        \"dtype\": \"number\",\n        \"std\": 40782,\n        \"min\": 1,\n        \"max\": 164979,\n        \"samples\": [\n          3890,\n          6033,\n          3922\n        ],\n        \"num_unique_values\": 9125,\n        \"semantic_type\": \"\",\n        \"description\": \"\"\n      }\n    },\n    {\n      \"column\": \"title\",\n      \"properties\": {\n        \"dtype\": \"string\",\n        \"samples\": [\n          \"Back Stage (2000)\",\n          \"Mystery Date (1991)\",\n          \"Bikini Beach (1964)\"\n        ],\n        \"num_unique_values\": 9123,\n        \"semantic_type\": \"\",\n        \"description\": \"\"\n      }\n    },\n    {\n      \"column\": \"genres\",\n      \"properties\": {\n        \"dtype\": \"category\",\n        \"samples\": [\n          \"Fantasy|Horror|Mystery\",\n          \"Crime|Drama|Film-Noir\",\n          \"Action|Adventure|Comedy|Western\"\n        ],\n        \"num_unique_values\": 902,\n        \"semantic_type\": \"\",\n        \"description\": \"\"\n      }\n    }\n  ]\n}"
            }
          },
          "metadata": {},
          "execution_count": 60
        }
      ]
    },
    {
      "cell_type": "code",
      "metadata": {
        "id": "QkedUBX4YuAD",
        "outputId": "61574d37-dd00-4f43-875f-566dce18ee8e",
        "colab": {
          "base_uri": "https://localhost:8080/",
          "height": 206
        }
      },
      "source": [
        "df_ratings = pd.read_csv('ratings.csv')\n",
        "df_ratings.head()"
      ],
      "execution_count": 61,
      "outputs": [
        {
          "output_type": "execute_result",
          "data": {
            "text/plain": [
              "   userID  movieID  rating   timestamp\n",
              "0       1       31     2.5  1260759144\n",
              "1       1     1029     3.0  1260759179\n",
              "2       1     1061     3.0  1260759182\n",
              "3       1     1129     2.0  1260759185\n",
              "4       1     1172     4.0  1260759205"
            ],
            "text/html": [
              "\n",
              "  <div id=\"df-a644c0ec-0732-41cc-9fa6-9524dd657237\" class=\"colab-df-container\">\n",
              "    <div>\n",
              "<style scoped>\n",
              "    .dataframe tbody tr th:only-of-type {\n",
              "        vertical-align: middle;\n",
              "    }\n",
              "\n",
              "    .dataframe tbody tr th {\n",
              "        vertical-align: top;\n",
              "    }\n",
              "\n",
              "    .dataframe thead th {\n",
              "        text-align: right;\n",
              "    }\n",
              "</style>\n",
              "<table border=\"1\" class=\"dataframe\">\n",
              "  <thead>\n",
              "    <tr style=\"text-align: right;\">\n",
              "      <th></th>\n",
              "      <th>userID</th>\n",
              "      <th>movieID</th>\n",
              "      <th>rating</th>\n",
              "      <th>timestamp</th>\n",
              "    </tr>\n",
              "  </thead>\n",
              "  <tbody>\n",
              "    <tr>\n",
              "      <th>0</th>\n",
              "      <td>1</td>\n",
              "      <td>31</td>\n",
              "      <td>2.5</td>\n",
              "      <td>1260759144</td>\n",
              "    </tr>\n",
              "    <tr>\n",
              "      <th>1</th>\n",
              "      <td>1</td>\n",
              "      <td>1029</td>\n",
              "      <td>3.0</td>\n",
              "      <td>1260759179</td>\n",
              "    </tr>\n",
              "    <tr>\n",
              "      <th>2</th>\n",
              "      <td>1</td>\n",
              "      <td>1061</td>\n",
              "      <td>3.0</td>\n",
              "      <td>1260759182</td>\n",
              "    </tr>\n",
              "    <tr>\n",
              "      <th>3</th>\n",
              "      <td>1</td>\n",
              "      <td>1129</td>\n",
              "      <td>2.0</td>\n",
              "      <td>1260759185</td>\n",
              "    </tr>\n",
              "    <tr>\n",
              "      <th>4</th>\n",
              "      <td>1</td>\n",
              "      <td>1172</td>\n",
              "      <td>4.0</td>\n",
              "      <td>1260759205</td>\n",
              "    </tr>\n",
              "  </tbody>\n",
              "</table>\n",
              "</div>\n",
              "    <div class=\"colab-df-buttons\">\n",
              "\n",
              "  <div class=\"colab-df-container\">\n",
              "    <button class=\"colab-df-convert\" onclick=\"convertToInteractive('df-a644c0ec-0732-41cc-9fa6-9524dd657237')\"\n",
              "            title=\"Convert this dataframe to an interactive table.\"\n",
              "            style=\"display:none;\">\n",
              "\n",
              "  <svg xmlns=\"http://www.w3.org/2000/svg\" height=\"24px\" viewBox=\"0 -960 960 960\">\n",
              "    <path d=\"M120-120v-720h720v720H120Zm60-500h600v-160H180v160Zm220 220h160v-160H400v160Zm0 220h160v-160H400v160ZM180-400h160v-160H180v160Zm440 0h160v-160H620v160ZM180-180h160v-160H180v160Zm440 0h160v-160H620v160Z\"/>\n",
              "  </svg>\n",
              "    </button>\n",
              "\n",
              "  <style>\n",
              "    .colab-df-container {\n",
              "      display:flex;\n",
              "      gap: 12px;\n",
              "    }\n",
              "\n",
              "    .colab-df-convert {\n",
              "      background-color: #E8F0FE;\n",
              "      border: none;\n",
              "      border-radius: 50%;\n",
              "      cursor: pointer;\n",
              "      display: none;\n",
              "      fill: #1967D2;\n",
              "      height: 32px;\n",
              "      padding: 0 0 0 0;\n",
              "      width: 32px;\n",
              "    }\n",
              "\n",
              "    .colab-df-convert:hover {\n",
              "      background-color: #E2EBFA;\n",
              "      box-shadow: 0px 1px 2px rgba(60, 64, 67, 0.3), 0px 1px 3px 1px rgba(60, 64, 67, 0.15);\n",
              "      fill: #174EA6;\n",
              "    }\n",
              "\n",
              "    .colab-df-buttons div {\n",
              "      margin-bottom: 4px;\n",
              "    }\n",
              "\n",
              "    [theme=dark] .colab-df-convert {\n",
              "      background-color: #3B4455;\n",
              "      fill: #D2E3FC;\n",
              "    }\n",
              "\n",
              "    [theme=dark] .colab-df-convert:hover {\n",
              "      background-color: #434B5C;\n",
              "      box-shadow: 0px 1px 3px 1px rgba(0, 0, 0, 0.15);\n",
              "      filter: drop-shadow(0px 1px 2px rgba(0, 0, 0, 0.3));\n",
              "      fill: #FFFFFF;\n",
              "    }\n",
              "  </style>\n",
              "\n",
              "    <script>\n",
              "      const buttonEl =\n",
              "        document.querySelector('#df-a644c0ec-0732-41cc-9fa6-9524dd657237 button.colab-df-convert');\n",
              "      buttonEl.style.display =\n",
              "        google.colab.kernel.accessAllowed ? 'block' : 'none';\n",
              "\n",
              "      async function convertToInteractive(key) {\n",
              "        const element = document.querySelector('#df-a644c0ec-0732-41cc-9fa6-9524dd657237');\n",
              "        const dataTable =\n",
              "          await google.colab.kernel.invokeFunction('convertToInteractive',\n",
              "                                                    [key], {});\n",
              "        if (!dataTable) return;\n",
              "\n",
              "        const docLinkHtml = 'Like what you see? Visit the ' +\n",
              "          '<a target=\"_blank\" href=https://colab.research.google.com/notebooks/data_table.ipynb>data table notebook</a>'\n",
              "          + ' to learn more about interactive tables.';\n",
              "        element.innerHTML = '';\n",
              "        dataTable['output_type'] = 'display_data';\n",
              "        await google.colab.output.renderOutput(dataTable, element);\n",
              "        const docLink = document.createElement('div');\n",
              "        docLink.innerHTML = docLinkHtml;\n",
              "        element.appendChild(docLink);\n",
              "      }\n",
              "    </script>\n",
              "  </div>\n",
              "\n",
              "\n",
              "<div id=\"df-89f8cd39-f41b-4c3b-98cd-901649624538\">\n",
              "  <button class=\"colab-df-quickchart\" onclick=\"quickchart('df-89f8cd39-f41b-4c3b-98cd-901649624538')\"\n",
              "            title=\"Suggest charts\"\n",
              "            style=\"display:none;\">\n",
              "\n",
              "<svg xmlns=\"http://www.w3.org/2000/svg\" height=\"24px\"viewBox=\"0 0 24 24\"\n",
              "     width=\"24px\">\n",
              "    <g>\n",
              "        <path d=\"M19 3H5c-1.1 0-2 .9-2 2v14c0 1.1.9 2 2 2h14c1.1 0 2-.9 2-2V5c0-1.1-.9-2-2-2zM9 17H7v-7h2v7zm4 0h-2V7h2v10zm4 0h-2v-4h2v4z\"/>\n",
              "    </g>\n",
              "</svg>\n",
              "  </button>\n",
              "\n",
              "<style>\n",
              "  .colab-df-quickchart {\n",
              "      --bg-color: #E8F0FE;\n",
              "      --fill-color: #1967D2;\n",
              "      --hover-bg-color: #E2EBFA;\n",
              "      --hover-fill-color: #174EA6;\n",
              "      --disabled-fill-color: #AAA;\n",
              "      --disabled-bg-color: #DDD;\n",
              "  }\n",
              "\n",
              "  [theme=dark] .colab-df-quickchart {\n",
              "      --bg-color: #3B4455;\n",
              "      --fill-color: #D2E3FC;\n",
              "      --hover-bg-color: #434B5C;\n",
              "      --hover-fill-color: #FFFFFF;\n",
              "      --disabled-bg-color: #3B4455;\n",
              "      --disabled-fill-color: #666;\n",
              "  }\n",
              "\n",
              "  .colab-df-quickchart {\n",
              "    background-color: var(--bg-color);\n",
              "    border: none;\n",
              "    border-radius: 50%;\n",
              "    cursor: pointer;\n",
              "    display: none;\n",
              "    fill: var(--fill-color);\n",
              "    height: 32px;\n",
              "    padding: 0;\n",
              "    width: 32px;\n",
              "  }\n",
              "\n",
              "  .colab-df-quickchart:hover {\n",
              "    background-color: var(--hover-bg-color);\n",
              "    box-shadow: 0 1px 2px rgba(60, 64, 67, 0.3), 0 1px 3px 1px rgba(60, 64, 67, 0.15);\n",
              "    fill: var(--button-hover-fill-color);\n",
              "  }\n",
              "\n",
              "  .colab-df-quickchart-complete:disabled,\n",
              "  .colab-df-quickchart-complete:disabled:hover {\n",
              "    background-color: var(--disabled-bg-color);\n",
              "    fill: var(--disabled-fill-color);\n",
              "    box-shadow: none;\n",
              "  }\n",
              "\n",
              "  .colab-df-spinner {\n",
              "    border: 2px solid var(--fill-color);\n",
              "    border-color: transparent;\n",
              "    border-bottom-color: var(--fill-color);\n",
              "    animation:\n",
              "      spin 1s steps(1) infinite;\n",
              "  }\n",
              "\n",
              "  @keyframes spin {\n",
              "    0% {\n",
              "      border-color: transparent;\n",
              "      border-bottom-color: var(--fill-color);\n",
              "      border-left-color: var(--fill-color);\n",
              "    }\n",
              "    20% {\n",
              "      border-color: transparent;\n",
              "      border-left-color: var(--fill-color);\n",
              "      border-top-color: var(--fill-color);\n",
              "    }\n",
              "    30% {\n",
              "      border-color: transparent;\n",
              "      border-left-color: var(--fill-color);\n",
              "      border-top-color: var(--fill-color);\n",
              "      border-right-color: var(--fill-color);\n",
              "    }\n",
              "    40% {\n",
              "      border-color: transparent;\n",
              "      border-right-color: var(--fill-color);\n",
              "      border-top-color: var(--fill-color);\n",
              "    }\n",
              "    60% {\n",
              "      border-color: transparent;\n",
              "      border-right-color: var(--fill-color);\n",
              "    }\n",
              "    80% {\n",
              "      border-color: transparent;\n",
              "      border-right-color: var(--fill-color);\n",
              "      border-bottom-color: var(--fill-color);\n",
              "    }\n",
              "    90% {\n",
              "      border-color: transparent;\n",
              "      border-bottom-color: var(--fill-color);\n",
              "    }\n",
              "  }\n",
              "</style>\n",
              "\n",
              "  <script>\n",
              "    async function quickchart(key) {\n",
              "      const quickchartButtonEl =\n",
              "        document.querySelector('#' + key + ' button');\n",
              "      quickchartButtonEl.disabled = true;  // To prevent multiple clicks.\n",
              "      quickchartButtonEl.classList.add('colab-df-spinner');\n",
              "      try {\n",
              "        const charts = await google.colab.kernel.invokeFunction(\n",
              "            'suggestCharts', [key], {});\n",
              "      } catch (error) {\n",
              "        console.error('Error during call to suggestCharts:', error);\n",
              "      }\n",
              "      quickchartButtonEl.classList.remove('colab-df-spinner');\n",
              "      quickchartButtonEl.classList.add('colab-df-quickchart-complete');\n",
              "    }\n",
              "    (() => {\n",
              "      let quickchartButtonEl =\n",
              "        document.querySelector('#df-89f8cd39-f41b-4c3b-98cd-901649624538 button');\n",
              "      quickchartButtonEl.style.display =\n",
              "        google.colab.kernel.accessAllowed ? 'block' : 'none';\n",
              "    })();\n",
              "  </script>\n",
              "</div>\n",
              "\n",
              "    </div>\n",
              "  </div>\n"
            ],
            "application/vnd.google.colaboratory.intrinsic+json": {
              "type": "dataframe",
              "variable_name": "df_ratings"
            }
          },
          "metadata": {},
          "execution_count": 61
        }
      ]
    },
    {
      "cell_type": "markdown",
      "metadata": {
        "id": "wjc-SBPIc27D"
      },
      "source": [
        "## Creating the tables"
      ]
    },
    {
      "cell_type": "code",
      "metadata": {
        "id": "DTRz9UPtWbsq"
      },
      "source": [
        "engine = create_engine('sqlite:///:memory:', echo=False)\n",
        "metadata = MetaData()\n",
        "conn = engine.connect()"
      ],
      "execution_count": 62,
      "outputs": []
    },
    {
      "cell_type": "code",
      "metadata": {
        "id": "I-adCFXAWgEl"
      },
      "source": [
        "movies = Table('movies', metadata,\n",
        "    Column('movieID', Integer),\n",
        "    Column('title', String),\n",
        "    Column('genres', String),\n",
        ")"
      ],
      "execution_count": 63,
      "outputs": []
    },
    {
      "cell_type": "code",
      "metadata": {
        "id": "Lt7ZL4DHc6o8"
      },
      "source": [
        "ratings = Table('ratings', metadata,\n",
        "    Column('userID', Integer),\n",
        "    Column('movieID', Integer),\n",
        "    Column('rating', Float),\n",
        "    Column('timestamp', Integer)\n",
        ")"
      ],
      "execution_count": 64,
      "outputs": []
    },
    {
      "cell_type": "code",
      "metadata": {
        "id": "-i3GRMjkaqOd"
      },
      "source": [
        "metadata.create_all(engine)"
      ],
      "execution_count": 65,
      "outputs": []
    },
    {
      "cell_type": "markdown",
      "metadata": {
        "id": "iHv5iY8VdLbm"
      },
      "source": [
        "## Inserting the data"
      ]
    },
    {
      "cell_type": "code",
      "metadata": {
        "id": "nONZ-MS_XzOV"
      },
      "source": [
        "for ind, row in df_movies.iterrows():\n",
        "    ins = movies.insert().values(movieID=row.movieID, title=row.title, genres=row.genres)\n",
        "    conn.execute(ins)"
      ],
      "execution_count": 66,
      "outputs": []
    },
    {
      "cell_type": "code",
      "metadata": {
        "id": "2fukJwkPtEXk",
        "outputId": "810895cb-977e-42f7-f3d4-fc028772ec03",
        "colab": {
          "base_uri": "https://localhost:8080/"
        }
      },
      "source": [
        "conn.execute(select(movies)).fetchmany(5)"
      ],
      "execution_count": 67,
      "outputs": [
        {
          "output_type": "execute_result",
          "data": {
            "text/plain": [
              "[(1, 'Toy Story (1995)', 'Adventure|Animation|Children|Comedy|Fantasy'),\n",
              " (2, 'Jumanji (1995)', 'Adventure|Children|Fantasy'),\n",
              " (3, 'Grumpier Old Men (1995)', 'Comedy|Romance'),\n",
              " (4, 'Waiting to Exhale (1995)', 'Comedy|Drama|Romance'),\n",
              " (5, 'Father of the Bride Part II (1995)', 'Comedy')]"
            ]
          },
          "metadata": {},
          "execution_count": 67
        }
      ]
    },
    {
      "cell_type": "code",
      "metadata": {
        "id": "xbhlkxSzaag4"
      },
      "source": [
        "for ind, row in df_ratings.iterrows():\n",
        "    ins = ratings.insert().values(userID=row.userID, movieID=row.movieID, rating=row.rating, timestamp=row.timestamp)\n",
        "    conn.execute(ins)"
      ],
      "execution_count": 68,
      "outputs": []
    },
    {
      "cell_type": "code",
      "metadata": {
        "id": "SKmdNWQrtQCm",
        "outputId": "6705090c-f805-41d3-c855-acd72cf70631",
        "colab": {
          "base_uri": "https://localhost:8080/"
        }
      },
      "source": [
        "conn.execute(select(ratings)).fetchmany(5)"
      ],
      "execution_count": 69,
      "outputs": [
        {
          "output_type": "execute_result",
          "data": {
            "text/plain": [
              "[(1, 31, 2.5, 1260759144),\n",
              " (1, 1029, 3.0, 1260759179),\n",
              " (1, 1061, 3.0, 1260759182),\n",
              " (1, 1129, 2.0, 1260759185),\n",
              " (1, 1172, 4.0, 1260759205)]"
            ]
          },
          "metadata": {},
          "execution_count": 69
        }
      ]
    },
    {
      "cell_type": "markdown",
      "metadata": {
        "id": "suf57jlcdO9K"
      },
      "source": [
        "## Executing the query"
      ]
    },
    {
      "cell_type": "code",
      "metadata": {
        "id": "ipVZHgV13dXP",
        "outputId": "43afbe26-5550-4666-d34e-4e0a88aeae7e",
        "colab": {
          "base_uri": "https://localhost:8080/"
        }
      },
      "source": [
        "join_stmt = movies.join(ratings, ratings.c.movieID == movies.c.movieID)\n",
        "join_stmt"
      ],
      "execution_count": 70,
      "outputs": [
        {
          "output_type": "execute_result",
          "data": {
            "text/plain": [
              "<sqlalchemy.sql.selectable.Join at 0x7b1b2849a650; Join object on movies(135356575463600) and ratings(135356575453664)>"
            ]
          },
          "metadata": {},
          "execution_count": 70
        }
      ]
    }
  ]
}