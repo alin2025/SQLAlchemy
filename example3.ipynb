{
  "nbformat": 4,
  "nbformat_minor": 0,
  "metadata": {
    "colab": {
      "provenance": [],
      "authorship_tag": "ABX9TyPVLx+H4qY28CCY1m9aaDbK",
      "include_colab_link": true
    },
    "kernelspec": {
      "name": "python3",
      "display_name": "Python 3"
    },
    "language_info": {
      "name": "python"
    }
  },
  "cells": [
    {
      "cell_type": "markdown",
      "metadata": {
        "id": "view-in-github",
        "colab_type": "text"
      },
      "source": [
        "<a href=\"https://colab.research.google.com/github/alin2025/SQLAlchemy/blob/main/example3.ipynb\" target=\"_parent\"><img src=\"https://colab.research.google.com/assets/colab-badge.svg\" alt=\"Open In Colab\"/></a>"
      ]
    },
    {
      "cell_type": "markdown",
      "source": [
        "Task - Show the names of the albums which contain the phrase \"The best of\"."
      ],
      "metadata": {
        "id": "lu5yv3zs69P8"
      }
    },
    {
      "cell_type": "code",
      "execution_count": 12,
      "metadata": {
        "colab": {
          "base_uri": "https://localhost:8080/"
        },
        "id": "dNj6j_Hz65uu",
        "outputId": "2b7f936f-d886-4475-8ee7-019de05f4a6f"
      },
      "outputs": [
        {
          "output_type": "stream",
          "name": "stdout",
          "text": [
            "[(13, 'The Best Of Billy Cobham', 10), (20, 'The Best Of Buddy Guy - The Millenium Collection', 15), (47, 'The Best of Ed Motta', 37), (61, \"Knocking at Your Back Door: The Best Of Deep Purple in the 80's\", 58), (83, 'My Way: The Best Of Frank Sinatra [Disc 1]', 85)]\n"
          ]
        }
      ],
      "source": [
        "\n",
        "import pandas as pd\n",
        "from sqlalchemy import create_engine, Table, MetaData, Column, Integer, String, Float\n",
        "from sqlalchemy import select, desc\n",
        "from sqlalchemy.sql import func\n",
        "\n",
        "# Create engine\n",
        "engine = create_engine('sqlite:///chinook.db', echo=False)\n",
        "\n",
        "# Create metadata\n",
        "metadata = MetaData()\n",
        "conn = engine.connect()\n",
        "\n",
        "#create albums table\n",
        "albums = Table('albums', metadata, autoload_with=engine)\n",
        "\n",
        "query = select(albums).where(albums.columns.Title.like('%the best of%'))\n",
        "\n",
        "result = conn.execute(query)\n",
        "print(result.fetchmany(5))"
      ]
    }
  ]
}